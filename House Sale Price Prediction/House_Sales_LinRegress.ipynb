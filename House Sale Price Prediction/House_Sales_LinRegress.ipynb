{
 "cells": [
  {
   "cell_type": "markdown",
   "metadata": {},
   "source": [
    "## Predicting House Prices using Machine Learning \n",
    "- (Linear Regression Model)"
   ]
  },
  {
   "cell_type": "code",
   "execution_count": 1,
   "metadata": {
    "collapsed": false
   },
   "outputs": [
    {
     "data": {
      "text/plain": [
       "2930"
      ]
     },
     "execution_count": 1,
     "metadata": {},
     "output_type": "execute_result"
    }
   ],
   "source": [
    "import pandas as pd\n",
    "import numpy as np\n",
    "import matplotlib.pyplot as plt\n",
    "from sklearn.linear_model import LinearRegression\n",
    "from sklearn.metrics import mean_squared_error\n",
    "import seaborn as sns\n",
    "from sklearn.model_selection import KFold, cross_val_score\n",
    "\n",
    "data = pd.read_csv(\"AmesHousing.tsv\", delimiter = \"\\t\")\n",
    "\n",
    "data.shape[0]"
   ]
  },
  {
   "cell_type": "code",
   "execution_count": 2,
   "metadata": {
    "collapsed": false
   },
   "outputs": [],
   "source": [
    "def transform_features(df):\n",
    "    \n",
    "    df[\"Years Until Remod\"] = df[\"Year Remod/Add\"] - df[\"Year Built\"]\n",
    "    df[\"Years Until Sold\"] = df[\"Yr Sold\"] - df[\"Year Built\"]\n",
    "    df[\"Years Since Remod\"] = df[\"Yr Sold\"] - df[\"Year Remod/Add\"]\n",
    "    neg_rows = (df[\"Years Until Remod\"] < 0) | (df[\"Years Until Sold\"] < 0) | (df[\"Years Since Remod\"] < 0)\n",
    "    df = df.drop(df.loc[neg_rows, :].index, axis = 0)\n",
    "    drop_cols = [\"Order\", \"PID\", \"Mo Sold\", \"Sale Condition\", \"Sale Type\", \"Year Built\", \"Year Remod/Add\"]\n",
    "    df = df.drop(drop_cols, axis = 1)\n",
    "    \n",
    "    cond_drop = df.isnull().sum() > df.shape[0] * 0.05\n",
    "    df = df.drop(df.loc[:,cond_drop].columns, axis = 1)\n",
    "    \n",
    "    text_df = df.select_dtypes(include = [\"object\"])\n",
    "    text_cols_cond = text_df.isnull().sum() > 0\n",
    "    df = df.drop(text_df.loc[:, text_cols_cond].columns, axis = 1)\n",
    "    \n",
    "    cond_repl = (df.isnull().sum() <= df.shape[0] * 0.05)\n",
    "    df.loc[:, cond_repl] = df.loc[:, cond_repl].fillna(df.loc[:, cond_repl].mode().iloc[0])  \n",
    "    \n",
    "    return df"
   ]
  },
  {
   "cell_type": "code",
   "execution_count": 3,
   "metadata": {
    "collapsed": false
   },
   "outputs": [],
   "source": [
    "def select_features(transformed_df):\n",
    "    #All nominal columns\n",
    "    nominal_features = [\"PID\", \"MS SubClass\", \"MS Zoning\", \"Street\", \"Alley\", \"Land Contour\", \"Lot Config\", \"Neighborhood\", \n",
    "                    \"Condition 1\", \"Condition 2\", \"Bldg Type\", \"House Style\", \"Roof Style\", \"Roof Matl\", \"Exterior 1st\", \n",
    "                    \"Exterior 2nd\", \"Mas Vnr Type\", \"Foundation\", \"Heating\", \"Central Air\", \"Garage Type\", \n",
    "                    \"Misc Feature\", \"Sale Type\", \"Sale Condition\"]\n",
    "    \n",
    "    #Now we drop all categorical columns that have more than 10 individual values\n",
    "    #and where 90 or more percent of values are identical\n",
    "    \n",
    "    nominals = []\n",
    "    for col in nominal_features:\n",
    "        if col in transformed_df.columns:\n",
    "            transformed_df[col] = transformed_df[col].astype(\"category\")\n",
    "            #this will filter out every category with more than 15 values\n",
    "            val_series = transformed_df[col].cat.codes.value_counts()\n",
    "            if len(val_series) <= 10:\n",
    "                # to check wether most values are identical:\n",
    "                if True not in (val_series > (val_series.sum() * 0.90)).values:\n",
    "                    nominals.append(col)\n",
    "    \n",
    "    #Adding the Neigborhood category as it seems to be a good way of grouping\n",
    "    #house prices\n",
    "    nominals.append(\"Neighborhood\")\n",
    "    \n",
    "    #finally getting the dummy variables and adding them to our dataframe\n",
    "    dummy_cols = []\n",
    "    for col in nominals:\n",
    "        if col in transformed_df.columns:\n",
    "            dummies = pd.get_dummies(transformed_df[col])\n",
    "            dummy_cols += list(dummies.columns)\n",
    "            transformed_df = pd.concat([transformed_df, dummies], axis = 1)\n",
    "            transformed_df = transformed_df.drop([col], axis = 1)\n",
    "    \n",
    "   \n",
    "   \n",
    "    # Now filtering for numeric columns with correlations > 0.4 (positive/negative)\n",
    "    numeric_df = transformed_df.select_dtypes(include = [\"int\", \"float\"])\n",
    "    price_corrs = abs(numeric_df.corr().loc[:, \"SalePrice\"]).sort_values(ascending = False)\n",
    "    cols = list(price_corrs[price_corrs > 0.4].index)\n",
    "    \n",
    "    # finally remove colums with correlations to other features:\n",
    "    prob_cols = [\"Garage Area\", \"TotRms AbvGrd\", \"Full Bath\"]\n",
    "    cols = [item for item in cols if item not in prob_cols]\n",
    "    \n",
    "    #return both the numeric feature columns aswell as our categorical dummies:\n",
    "    features = cols + dummy_cols\n",
    "    \n",
    "    return transformed_df.loc[:, features]"
   ]
  },
  {
   "cell_type": "code",
   "execution_count": 4,
   "metadata": {
    "collapsed": false
   },
   "outputs": [],
   "source": [
    "def train_and_test(df, k):\n",
    "   \n",
    "    feature_df = transform_features(df)\n",
    "    feature_df = select_features(feature_df)\n",
    "    features = list(feature_df.drop([\"SalePrice\"], axis = 1).columns)\n",
    "    \n",
    "    if k == 0:\n",
    "        split_idx = int(feature_df.shape[0]/2)\n",
    "        train = feature_df[:split_idx]\n",
    "        test = feature_df[split_idx:]\n",
    "        \n",
    "        lr = LinearRegression()\n",
    "        lr.fit(train[features], train[\"SalePrice\"])\n",
    "        predictions = lr.predict(test[features])\n",
    "    \n",
    "        rmse = (mean_squared_error(test[\"SalePrice\"], predictions)) ** 0.5\n",
    "        \n",
    "        return rmse\n",
    "    \n",
    "    if k == 1:\n",
    "        np.random.seed(1)\n",
    "        randomdf = feature_df.sample(frac = 1)\n",
    "        split_idx = int(feature_df.shape[0]/2)\n",
    "        train = randomdf[:split_idx]\n",
    "        test = randomdf[split_idx:]\n",
    "        \n",
    "        lr = LinearRegression()\n",
    "        lr.fit(train[features], train[\"SalePrice\"])\n",
    "        predictions = lr.predict(test[features])\n",
    "    \n",
    "        rmse = (mean_squared_error(test[\"SalePrice\"], predictions)) ** 0.5\n",
    "       \n",
    "        return rmse\n",
    "    \n",
    "    if k > 1:\n",
    "        lr = LinearRegression()\n",
    "        kf = KFold(n_splits = k, shuffle = True, random_state = 1) # remove randomseed \n",
    "        mses = cross_val_score(lr, feature_df[features], feature_df[\"SalePrice\"] ,scoring = \"neg_mean_squared_error\", cv = kf)\n",
    "        rmses = abs(mses) ** 0.5\n",
    "        print(rmses)\n",
    "        return np.mean(rmses)\n",
    "    \n",
    "    else:\n",
    "        print(\"wrong k given\")"
   ]
  },
  {
   "cell_type": "markdown",
   "metadata": {},
   "source": [
    "<b>Testing the model with holdout validation:"
   ]
  },
  {
   "cell_type": "code",
   "execution_count": 24,
   "metadata": {
    "collapsed": false
   },
   "outputs": [
    {
     "data": {
      "text/plain": [
       "32424.117008376528"
      ]
     },
     "execution_count": 24,
     "metadata": {},
     "output_type": "execute_result"
    }
   ],
   "source": [
    "train_and_test(data, 0)"
   ]
  },
  {
   "cell_type": "markdown",
   "metadata": {},
   "source": [
    "<b>Testing the model with cross validation:"
   ]
  },
  {
   "cell_type": "code",
   "execution_count": 5,
   "metadata": {
    "collapsed": false
   },
   "outputs": [
    {
     "data": {
      "text/plain": [
       "28339.030417951741"
      ]
     },
     "execution_count": 5,
     "metadata": {},
     "output_type": "execute_result"
    }
   ],
   "source": [
    "train_and_test(data, 1)"
   ]
  },
  {
   "cell_type": "markdown",
   "metadata": {},
   "source": [
    "<b>Testing the model using K-Fold cross validation:"
   ]
  },
  {
   "cell_type": "code",
   "execution_count": 25,
   "metadata": {
    "collapsed": false
   },
   "outputs": [
    {
     "name": "stdout",
     "output_type": "stream",
     "text": [
      "[ 34636.66557789  46366.25365904  23978.92060182  21709.42258943\n",
      "  28367.84557022  30195.74152086  22375.54830921  27341.21622885\n",
      "  26043.21617654  28072.63210114]\n"
     ]
    },
    {
     "data": {
      "text/plain": [
       "28908.7462334995"
      ]
     },
     "execution_count": 25,
     "metadata": {},
     "output_type": "execute_result"
    }
   ],
   "source": [
    "train_and_test(data, 10)"
   ]
  },
  {
   "cell_type": "markdown",
   "metadata": {},
   "source": [
    "## The Cells below were used to experiment. Afterwards the functions above were updated accordingly."
   ]
  },
  {
   "cell_type": "markdown",
   "metadata": {},
   "source": [
    "<b>Feature Engineering: </b>\n",
    "- this will be included in the transform_features function"
   ]
  },
  {
   "cell_type": "code",
   "execution_count": 7,
   "metadata": {
    "collapsed": false
   },
   "outputs": [
    {
     "data": {
      "text/html": [
       "<div>\n",
       "<table border=\"1\" class=\"dataframe\">\n",
       "  <thead>\n",
       "    <tr style=\"text-align: right;\">\n",
       "      <th></th>\n",
       "      <th>Order</th>\n",
       "      <th>PID</th>\n",
       "      <th>MS SubClass</th>\n",
       "      <th>MS Zoning</th>\n",
       "      <th>Lot Frontage</th>\n",
       "      <th>Lot Area</th>\n",
       "      <th>Street</th>\n",
       "      <th>Alley</th>\n",
       "      <th>Lot Shape</th>\n",
       "      <th>Land Contour</th>\n",
       "      <th>...</th>\n",
       "      <th>Misc Feature</th>\n",
       "      <th>Misc Val</th>\n",
       "      <th>Mo Sold</th>\n",
       "      <th>Yr Sold</th>\n",
       "      <th>Sale Type</th>\n",
       "      <th>Sale Condition</th>\n",
       "      <th>SalePrice</th>\n",
       "      <th>Years Until Remod</th>\n",
       "      <th>Years Until Sold</th>\n",
       "      <th>Years Since Remod</th>\n",
       "    </tr>\n",
       "  </thead>\n",
       "  <tbody>\n",
       "    <tr>\n",
       "      <th>0</th>\n",
       "      <td>1</td>\n",
       "      <td>526301100</td>\n",
       "      <td>20</td>\n",
       "      <td>RL</td>\n",
       "      <td>141.0</td>\n",
       "      <td>31770</td>\n",
       "      <td>Pave</td>\n",
       "      <td>NaN</td>\n",
       "      <td>IR1</td>\n",
       "      <td>Lvl</td>\n",
       "      <td>...</td>\n",
       "      <td>NaN</td>\n",
       "      <td>0</td>\n",
       "      <td>5</td>\n",
       "      <td>2010</td>\n",
       "      <td>WD</td>\n",
       "      <td>Normal</td>\n",
       "      <td>215000</td>\n",
       "      <td>0</td>\n",
       "      <td>50</td>\n",
       "      <td>50</td>\n",
       "    </tr>\n",
       "    <tr>\n",
       "      <th>1</th>\n",
       "      <td>2</td>\n",
       "      <td>526350040</td>\n",
       "      <td>20</td>\n",
       "      <td>RH</td>\n",
       "      <td>80.0</td>\n",
       "      <td>11622</td>\n",
       "      <td>Pave</td>\n",
       "      <td>NaN</td>\n",
       "      <td>Reg</td>\n",
       "      <td>Lvl</td>\n",
       "      <td>...</td>\n",
       "      <td>NaN</td>\n",
       "      <td>0</td>\n",
       "      <td>6</td>\n",
       "      <td>2010</td>\n",
       "      <td>WD</td>\n",
       "      <td>Normal</td>\n",
       "      <td>105000</td>\n",
       "      <td>0</td>\n",
       "      <td>49</td>\n",
       "      <td>49</td>\n",
       "    </tr>\n",
       "    <tr>\n",
       "      <th>2</th>\n",
       "      <td>3</td>\n",
       "      <td>526351010</td>\n",
       "      <td>20</td>\n",
       "      <td>RL</td>\n",
       "      <td>81.0</td>\n",
       "      <td>14267</td>\n",
       "      <td>Pave</td>\n",
       "      <td>NaN</td>\n",
       "      <td>IR1</td>\n",
       "      <td>Lvl</td>\n",
       "      <td>...</td>\n",
       "      <td>Gar2</td>\n",
       "      <td>12500</td>\n",
       "      <td>6</td>\n",
       "      <td>2010</td>\n",
       "      <td>WD</td>\n",
       "      <td>Normal</td>\n",
       "      <td>172000</td>\n",
       "      <td>0</td>\n",
       "      <td>52</td>\n",
       "      <td>52</td>\n",
       "    </tr>\n",
       "  </tbody>\n",
       "</table>\n",
       "<p>3 rows × 85 columns</p>\n",
       "</div>"
      ],
      "text/plain": [
       "   Order        PID  MS SubClass MS Zoning  Lot Frontage  Lot Area Street  \\\n",
       "0      1  526301100           20        RL         141.0     31770   Pave   \n",
       "1      2  526350040           20        RH          80.0     11622   Pave   \n",
       "2      3  526351010           20        RL          81.0     14267   Pave   \n",
       "\n",
       "  Alley Lot Shape Land Contour        ...         Misc Feature Misc Val  \\\n",
       "0   NaN       IR1          Lvl        ...                  NaN        0   \n",
       "1   NaN       Reg          Lvl        ...                  NaN        0   \n",
       "2   NaN       IR1          Lvl        ...                 Gar2    12500   \n",
       "\n",
       "  Mo Sold Yr Sold Sale Type Sale Condition SalePrice Years Until Remod  \\\n",
       "0       5    2010       WD          Normal    215000                 0   \n",
       "1       6    2010       WD          Normal    105000                 0   \n",
       "2       6    2010       WD          Normal    172000                 0   \n",
       "\n",
       "   Years Until Sold  Years Since Remod  \n",
       "0                50                 50  \n",
       "1                49                 49  \n",
       "2                52                 52  \n",
       "\n",
       "[3 rows x 85 columns]"
      ]
     },
     "execution_count": 7,
     "metadata": {},
     "output_type": "execute_result"
    }
   ],
   "source": [
    "df = data.copy()\n",
    "df[\"Years Until Remod\"] = df[\"Year Remod/Add\"] - df[\"Year Built\"]\n",
    "df[\"Years Until Sold\"] = df[\"Yr Sold\"] - df[\"Year Built\"]\n",
    "df[\"Years Since Remod\"] = df[\"Yr Sold\"] - df[\"Year Remod/Add\"]\n",
    "df.head(3)"
   ]
  },
  {
   "cell_type": "code",
   "execution_count": 8,
   "metadata": {
    "collapsed": false
   },
   "outputs": [
    {
     "data": {
      "text/html": [
       "<div>\n",
       "<table border=\"1\" class=\"dataframe\">\n",
       "  <thead>\n",
       "    <tr style=\"text-align: right;\">\n",
       "      <th></th>\n",
       "      <th>Order</th>\n",
       "      <th>PID</th>\n",
       "      <th>MS SubClass</th>\n",
       "      <th>MS Zoning</th>\n",
       "      <th>Lot Frontage</th>\n",
       "      <th>Lot Area</th>\n",
       "      <th>Street</th>\n",
       "      <th>Alley</th>\n",
       "      <th>Lot Shape</th>\n",
       "      <th>Land Contour</th>\n",
       "      <th>...</th>\n",
       "      <th>Misc Feature</th>\n",
       "      <th>Misc Val</th>\n",
       "      <th>Mo Sold</th>\n",
       "      <th>Yr Sold</th>\n",
       "      <th>Sale Type</th>\n",
       "      <th>Sale Condition</th>\n",
       "      <th>SalePrice</th>\n",
       "      <th>Years Until Remod</th>\n",
       "      <th>Years Until Sold</th>\n",
       "      <th>Years Since Remod</th>\n",
       "    </tr>\n",
       "  </thead>\n",
       "  <tbody>\n",
       "    <tr>\n",
       "      <th>850</th>\n",
       "      <td>851</td>\n",
       "      <td>907194160</td>\n",
       "      <td>20</td>\n",
       "      <td>RL</td>\n",
       "      <td>65.0</td>\n",
       "      <td>10739</td>\n",
       "      <td>Pave</td>\n",
       "      <td>NaN</td>\n",
       "      <td>IR1</td>\n",
       "      <td>Lvl</td>\n",
       "      <td>...</td>\n",
       "      <td>NaN</td>\n",
       "      <td>0</td>\n",
       "      <td>4</td>\n",
       "      <td>2009</td>\n",
       "      <td>WD</td>\n",
       "      <td>Normal</td>\n",
       "      <td>203000</td>\n",
       "      <td>-1</td>\n",
       "      <td>7</td>\n",
       "      <td>8</td>\n",
       "    </tr>\n",
       "  </tbody>\n",
       "</table>\n",
       "<p>1 rows × 85 columns</p>\n",
       "</div>"
      ],
      "text/plain": [
       "     Order        PID  MS SubClass MS Zoning  Lot Frontage  Lot Area Street  \\\n",
       "850    851  907194160           20        RL          65.0     10739   Pave   \n",
       "\n",
       "    Alley Lot Shape Land Contour        ...         Misc Feature Misc Val  \\\n",
       "850   NaN       IR1          Lvl        ...                  NaN        0   \n",
       "\n",
       "    Mo Sold Yr Sold Sale Type Sale Condition SalePrice Years Until Remod  \\\n",
       "850       4    2009       WD          Normal    203000                -1   \n",
       "\n",
       "     Years Until Sold  Years Since Remod  \n",
       "850                 7                  8  \n",
       "\n",
       "[1 rows x 85 columns]"
      ]
     },
     "execution_count": 8,
     "metadata": {},
     "output_type": "execute_result"
    }
   ],
   "source": [
    "df.loc[df[\"Years Until Remod\"] < 0, :]"
   ]
  },
  {
   "cell_type": "code",
   "execution_count": 9,
   "metadata": {
    "collapsed": false
   },
   "outputs": [
    {
     "data": {
      "text/html": [
       "<div>\n",
       "<table border=\"1\" class=\"dataframe\">\n",
       "  <thead>\n",
       "    <tr style=\"text-align: right;\">\n",
       "      <th></th>\n",
       "      <th>Order</th>\n",
       "      <th>PID</th>\n",
       "      <th>MS SubClass</th>\n",
       "      <th>MS Zoning</th>\n",
       "      <th>Lot Frontage</th>\n",
       "      <th>Lot Area</th>\n",
       "      <th>Street</th>\n",
       "      <th>Alley</th>\n",
       "      <th>Lot Shape</th>\n",
       "      <th>Land Contour</th>\n",
       "      <th>...</th>\n",
       "      <th>Misc Feature</th>\n",
       "      <th>Misc Val</th>\n",
       "      <th>Mo Sold</th>\n",
       "      <th>Yr Sold</th>\n",
       "      <th>Sale Type</th>\n",
       "      <th>Sale Condition</th>\n",
       "      <th>SalePrice</th>\n",
       "      <th>Years Until Remod</th>\n",
       "      <th>Years Until Sold</th>\n",
       "      <th>Years Since Remod</th>\n",
       "    </tr>\n",
       "  </thead>\n",
       "  <tbody>\n",
       "    <tr>\n",
       "      <th>1702</th>\n",
       "      <td>1703</td>\n",
       "      <td>528120010</td>\n",
       "      <td>60</td>\n",
       "      <td>RL</td>\n",
       "      <td>134.0</td>\n",
       "      <td>16659</td>\n",
       "      <td>Pave</td>\n",
       "      <td>NaN</td>\n",
       "      <td>IR1</td>\n",
       "      <td>Lvl</td>\n",
       "      <td>...</td>\n",
       "      <td>NaN</td>\n",
       "      <td>0</td>\n",
       "      <td>6</td>\n",
       "      <td>2007</td>\n",
       "      <td>New</td>\n",
       "      <td>Partial</td>\n",
       "      <td>260116</td>\n",
       "      <td>1</td>\n",
       "      <td>0</td>\n",
       "      <td>-1</td>\n",
       "    </tr>\n",
       "    <tr>\n",
       "      <th>2180</th>\n",
       "      <td>2181</td>\n",
       "      <td>908154195</td>\n",
       "      <td>20</td>\n",
       "      <td>RL</td>\n",
       "      <td>128.0</td>\n",
       "      <td>39290</td>\n",
       "      <td>Pave</td>\n",
       "      <td>NaN</td>\n",
       "      <td>IR1</td>\n",
       "      <td>Bnk</td>\n",
       "      <td>...</td>\n",
       "      <td>Elev</td>\n",
       "      <td>17000</td>\n",
       "      <td>10</td>\n",
       "      <td>2007</td>\n",
       "      <td>New</td>\n",
       "      <td>Partial</td>\n",
       "      <td>183850</td>\n",
       "      <td>1</td>\n",
       "      <td>-1</td>\n",
       "      <td>-2</td>\n",
       "    </tr>\n",
       "    <tr>\n",
       "      <th>2181</th>\n",
       "      <td>2182</td>\n",
       "      <td>908154205</td>\n",
       "      <td>60</td>\n",
       "      <td>RL</td>\n",
       "      <td>130.0</td>\n",
       "      <td>40094</td>\n",
       "      <td>Pave</td>\n",
       "      <td>NaN</td>\n",
       "      <td>IR1</td>\n",
       "      <td>Bnk</td>\n",
       "      <td>...</td>\n",
       "      <td>NaN</td>\n",
       "      <td>0</td>\n",
       "      <td>10</td>\n",
       "      <td>2007</td>\n",
       "      <td>New</td>\n",
       "      <td>Partial</td>\n",
       "      <td>184750</td>\n",
       "      <td>1</td>\n",
       "      <td>0</td>\n",
       "      <td>-1</td>\n",
       "    </tr>\n",
       "  </tbody>\n",
       "</table>\n",
       "<p>3 rows × 85 columns</p>\n",
       "</div>"
      ],
      "text/plain": [
       "      Order        PID  MS SubClass MS Zoning  Lot Frontage  Lot Area Street  \\\n",
       "1702   1703  528120010           60        RL         134.0     16659   Pave   \n",
       "2180   2181  908154195           20        RL         128.0     39290   Pave   \n",
       "2181   2182  908154205           60        RL         130.0     40094   Pave   \n",
       "\n",
       "     Alley Lot Shape Land Contour        ...         Misc Feature Misc Val  \\\n",
       "1702   NaN       IR1          Lvl        ...                  NaN        0   \n",
       "2180   NaN       IR1          Bnk        ...                 Elev    17000   \n",
       "2181   NaN       IR1          Bnk        ...                  NaN        0   \n",
       "\n",
       "     Mo Sold Yr Sold Sale Type Sale Condition SalePrice Years Until Remod  \\\n",
       "1702       6    2007       New        Partial    260116                 1   \n",
       "2180      10    2007       New        Partial    183850                 1   \n",
       "2181      10    2007       New        Partial    184750                 1   \n",
       "\n",
       "      Years Until Sold  Years Since Remod  \n",
       "1702                 0                 -1  \n",
       "2180                -1                 -2  \n",
       "2181                 0                 -1  \n",
       "\n",
       "[3 rows x 85 columns]"
      ]
     },
     "execution_count": 9,
     "metadata": {},
     "output_type": "execute_result"
    }
   ],
   "source": [
    "df.loc[df[\"Years Since Remod\"] < 0, :]"
   ]
  },
  {
   "cell_type": "code",
   "execution_count": 10,
   "metadata": {
    "collapsed": false
   },
   "outputs": [
    {
     "data": {
      "text/html": [
       "<div>\n",
       "<table border=\"1\" class=\"dataframe\">\n",
       "  <thead>\n",
       "    <tr style=\"text-align: right;\">\n",
       "      <th></th>\n",
       "      <th>Order</th>\n",
       "      <th>PID</th>\n",
       "      <th>MS SubClass</th>\n",
       "      <th>MS Zoning</th>\n",
       "      <th>Lot Frontage</th>\n",
       "      <th>Lot Area</th>\n",
       "      <th>Street</th>\n",
       "      <th>Alley</th>\n",
       "      <th>Lot Shape</th>\n",
       "      <th>Land Contour</th>\n",
       "      <th>...</th>\n",
       "      <th>Misc Feature</th>\n",
       "      <th>Misc Val</th>\n",
       "      <th>Mo Sold</th>\n",
       "      <th>Yr Sold</th>\n",
       "      <th>Sale Type</th>\n",
       "      <th>Sale Condition</th>\n",
       "      <th>SalePrice</th>\n",
       "      <th>Years Until Remod</th>\n",
       "      <th>Years Until Sold</th>\n",
       "      <th>Years Since Remod</th>\n",
       "    </tr>\n",
       "  </thead>\n",
       "  <tbody>\n",
       "    <tr>\n",
       "      <th>2180</th>\n",
       "      <td>2181</td>\n",
       "      <td>908154195</td>\n",
       "      <td>20</td>\n",
       "      <td>RL</td>\n",
       "      <td>128.0</td>\n",
       "      <td>39290</td>\n",
       "      <td>Pave</td>\n",
       "      <td>NaN</td>\n",
       "      <td>IR1</td>\n",
       "      <td>Bnk</td>\n",
       "      <td>...</td>\n",
       "      <td>Elev</td>\n",
       "      <td>17000</td>\n",
       "      <td>10</td>\n",
       "      <td>2007</td>\n",
       "      <td>New</td>\n",
       "      <td>Partial</td>\n",
       "      <td>183850</td>\n",
       "      <td>1</td>\n",
       "      <td>-1</td>\n",
       "      <td>-2</td>\n",
       "    </tr>\n",
       "  </tbody>\n",
       "</table>\n",
       "<p>1 rows × 85 columns</p>\n",
       "</div>"
      ],
      "text/plain": [
       "      Order        PID  MS SubClass MS Zoning  Lot Frontage  Lot Area Street  \\\n",
       "2180   2181  908154195           20        RL         128.0     39290   Pave   \n",
       "\n",
       "     Alley Lot Shape Land Contour        ...         Misc Feature Misc Val  \\\n",
       "2180   NaN       IR1          Bnk        ...                 Elev    17000   \n",
       "\n",
       "     Mo Sold Yr Sold Sale Type Sale Condition SalePrice Years Until Remod  \\\n",
       "2180      10    2007       New        Partial    183850                 1   \n",
       "\n",
       "      Years Until Sold  Years Since Remod  \n",
       "2180                -1                 -2  \n",
       "\n",
       "[1 rows x 85 columns]"
      ]
     },
     "execution_count": 10,
     "metadata": {},
     "output_type": "execute_result"
    }
   ],
   "source": [
    "df.loc[df[\"Years Until Sold\"] < 0, :]"
   ]
  },
  {
   "cell_type": "code",
   "execution_count": 11,
   "metadata": {
    "collapsed": true
   },
   "outputs": [],
   "source": [
    "# dropping rows that have values < 0\n",
    "df = df.drop([850, 1702, 2180, 2181], axis = 0)"
   ]
  },
  {
   "cell_type": "code",
   "execution_count": 12,
   "metadata": {
    "collapsed": true
   },
   "outputs": [],
   "source": [
    "# dropping columns that are not useful:\n",
    "drop_cols = [\"Order\", \"PID\", \"Mo Sold\", \"Sale Condition\", \"Sale Type\", \"Year Built\", \"Year Remod/Add\"]\n",
    "df = df.drop(drop_cols, axis = 1)"
   ]
  },
  {
   "cell_type": "markdown",
   "metadata": {},
   "source": [
    "<b>Feature Selection"
   ]
  },
  {
   "cell_type": "code",
   "execution_count": 13,
   "metadata": {
    "collapsed": false
   },
   "outputs": [],
   "source": [
    "transformed_df = transform_features(data)"
   ]
  },
  {
   "cell_type": "code",
   "execution_count": 14,
   "metadata": {
    "collapsed": true
   },
   "outputs": [],
   "source": [
    "# some columns are numerical but have no numeric meaning (e.g MSSubclass)\n",
    "nominal_features = [\"PID\", \"MS SubClass\", \"MS Zoning\", \"Street\", \"Alley\", \"Land Contour\", \"Lot Config\", \"Neighborhood\", \n",
    "                    \"Condition 1\", \"Condition 2\", \"Bldg Type\", \"House Style\", \"Roof Style\", \"Roof Matl\", \"Exterior 1st\", \n",
    "                    \"Exterior 2nd\", \"Mas Vnr Type\", \"Foundation\", \"Heating\", \"Central Air\", \"Garage Type\", \n",
    "                    \"Misc Feature\", \"Sale Type\", \"Sale Condition\"]"
   ]
  },
  {
   "cell_type": "code",
   "execution_count": 15,
   "metadata": {
    "collapsed": false
   },
   "outputs": [
    {
     "data": {
      "text/plain": [
       "['MS Zoning',\n",
       " 'Land Contour',\n",
       " 'Lot Config',\n",
       " 'Condition 1',\n",
       " 'Bldg Type',\n",
       " 'House Style',\n",
       " 'Roof Style',\n",
       " 'Foundation',\n",
       " 'Neighborhood']"
      ]
     },
     "execution_count": 15,
     "metadata": {},
     "output_type": "execute_result"
    }
   ],
   "source": [
    "nominals = []\n",
    "for col in nominal_features:\n",
    "    if col in transformed_df.columns:\n",
    "        transformed_df[col] = transformed_df[col].astype(\"category\")\n",
    "        #this will filter out every category with more than 15 values\n",
    "        val_series = transformed_df[col].cat.codes.value_counts()\n",
    "        if len(val_series) <= 10:\n",
    "            # to check wether most values are identical:\n",
    "            if True not in (val_series > (val_series.sum() * 0.90)).values:\n",
    "                nominals.append(col)\n",
    "        \n",
    "nominals.append(\"Neighborhood\")\n",
    "nominals"
   ]
  },
  {
   "cell_type": "code",
   "execution_count": 16,
   "metadata": {
    "collapsed": false
   },
   "outputs": [],
   "source": [
    "dummy_cols = []\n",
    "for col in nominals:\n",
    "    if col in transformed_df.columns:\n",
    "        dummies = pd.get_dummies(transformed_df[col])\n",
    "        dummy_cols += list(dummies.columns)\n",
    "        dummy_cols += list(dummies.columns)\n",
    "        transformed_df = pd.concat([transformed_df, dummies], axis = 1)\n",
    "        transformed_df = transformed_df.drop([col], axis = 1)"
   ]
  },
  {
   "cell_type": "code",
   "execution_count": 17,
   "metadata": {
    "collapsed": false
   },
   "outputs": [
    {
     "data": {
      "text/plain": [
       "SalePrice            1.000000\n",
       "Overall Qual         0.801212\n",
       "Gr Liv Area          0.717617\n",
       "Garage Cars          0.648351\n",
       "Total Bsmt SF        0.644023\n",
       "Garage Area          0.641414\n",
       "1st Flr SF           0.635183\n",
       "Years Until Sold     0.558984\n",
       "Full Bath            0.546108\n",
       "Years Since Remod    0.534972\n",
       "Mas Vnr Area         0.507010\n",
       "TotRms AbvGrd        0.498614\n",
       "Fireplaces           0.474994\n",
       "BsmtFin SF 1         0.439365\n",
       "Wood Deck SF         0.328158\n",
       "Open Porch SF        0.316277\n",
       "Half Bath            0.284974\n",
       "Bsmt Full Bath       0.276214\n",
       "2nd Flr SF           0.269707\n",
       "Lot Area             0.267517\n",
       "Years Until Remod    0.240017\n",
       "Bsmt Unf SF          0.182862\n",
       "Bedroom AbvGr        0.143902\n",
       "Enclosed Porch       0.128656\n",
       "Kitchen AbvGr        0.119743\n",
       "Screen Porch         0.112310\n",
       "Overall Cond         0.101498\n",
       "Pool Area            0.068445\n",
       "Low Qual Fin SF      0.037620\n",
       "Bsmt Half Bath       0.035852\n",
       "3Ssn Porch           0.032279\n",
       "Yr Sold              0.030450\n",
       "Misc Val             0.019264\n",
       "BsmtFin SF 2         0.006156\n",
       "Name: SalePrice, dtype: float64"
      ]
     },
     "execution_count": 17,
     "metadata": {},
     "output_type": "execute_result"
    }
   ],
   "source": [
    "# Getting the corellations with SalePrice\n",
    "numeric_df = transformed_df.select_dtypes(include = [\"int\", \"float\"])\n",
    "price_corrs = abs(numeric_df.corr().loc[:, \"SalePrice\"]).sort_values(ascending = False)\n",
    "price_corrs"
   ]
  },
  {
   "cell_type": "code",
   "execution_count": 18,
   "metadata": {
    "collapsed": false
   },
   "outputs": [
    {
     "data": {
      "text/plain": [
       "['SalePrice',\n",
       " 'Overall Qual',\n",
       " 'Gr Liv Area',\n",
       " 'Garage Cars',\n",
       " 'Total Bsmt SF',\n",
       " 'Garage Area',\n",
       " '1st Flr SF',\n",
       " 'Years Until Sold',\n",
       " 'Full Bath',\n",
       " 'Years Since Remod',\n",
       " 'Mas Vnr Area',\n",
       " 'TotRms AbvGrd',\n",
       " 'Fireplaces',\n",
       " 'BsmtFin SF 1']"
      ]
     },
     "execution_count": 18,
     "metadata": {},
     "output_type": "execute_result"
    }
   ],
   "source": [
    "# keep columns with corellations higher than 0.4\n",
    "cols = list(price_corrs[price_corrs > 0.4].index)\n",
    "#cols = cols.remove(\"Garage Yr Built\")\n",
    "cols"
   ]
  },
  {
   "cell_type": "code",
   "execution_count": 19,
   "metadata": {
    "collapsed": false
   },
   "outputs": [
    {
     "data": {
      "image/png": "[encoded data removed]",
      "text/plain": [
       "<matplotlib.figure.Figure at 0x7f2e962c0908>"
      ]
     },
     "metadata": {},
     "output_type": "display_data"
    }
   ],
   "source": [
    "correlations = abs(numeric_df.corr()).loc[cols, cols]\n",
    "\n",
    "%matplotlib inline\n",
    "sns.heatmap(correlations)\n",
    "plt.show()"
   ]
  },
  {
   "cell_type": "code",
   "execution_count": 20,
   "metadata": {
    "collapsed": false
   },
   "outputs": [],
   "source": [
    "#Now remove features that have high corellations with other features:\n",
    "prob_cols = [\"Garage Area\", \"TotRms AbvGrd\", \"Full Bath\"]\n",
    "cols = [item for item in cols if item not in prob_cols]"
   ]
  },
  {
   "cell_type": "code",
   "execution_count": 21,
   "metadata": {
    "collapsed": false
   },
   "outputs": [],
   "source": [
    "features = cols + dummy_cols"
   ]
  },
  {
   "cell_type": "code",
   "execution_count": 22,
   "metadata": {
    "collapsed": false
   },
   "outputs": [
    {
     "data": {
      "text/plain": [
       "0"
      ]
     },
     "execution_count": 22,
     "metadata": {},
     "output_type": "execute_result"
    }
   ],
   "source": [
    "sum(transformed_df[features].isnull().sum())"
   ]
  },
  {
   "cell_type": "markdown",
   "metadata": {},
   "source": [
    "<b>updating for k-fold cross validation:"
   ]
  },
  {
   "cell_type": "code",
   "execution_count": 23,
   "metadata": {
    "collapsed": false
   },
   "outputs": [
    {
     "name": "stdout",
     "output_type": "stream",
     "text": [
      "end\n"
     ]
    }
   ],
   "source": [
    "'''\n",
    "def train_and_test(df, target, k):\n",
    "   \n",
    "    feature_df = transform_features(df)\n",
    "    feature_df = select_features(feature_df)\n",
    "    features = list(feature_df.drop([target], axis = 1).columns)\n",
    "    \n",
    "    if k == 0:\n",
    "        split_idx = int(feature_df.shape[0]/2)\n",
    "        train = feature_df[:split_idx]\n",
    "        test = feature_df[split_idx:]\n",
    "        \n",
    "        lr = LinearRegression()\n",
    "        lr.fit(train[features], train[target])\n",
    "        predictions = lr.predict(test[features])\n",
    "    \n",
    "        rmse = (mean_squared_error(test[target], predictions)) ** 0.5\n",
    "        \n",
    "        return rmse\n",
    "    \n",
    "    if k == 1:\n",
    "        np.random.seed(1)\n",
    "        randomdf = feature_df.sample(frac = 1)\n",
    "        split_idx = int(feature_df.shape[0]/2)\n",
    "        train = randomdf[:split_idx]\n",
    "        test = randomdf[split_idx:]\n",
    "        \n",
    "        lr = LinearRegression()\n",
    "        lr.fit(train[features], train[target])\n",
    "        predictions = lr.predict(test[features])\n",
    "    \n",
    "        rmse = (mean_squared_error(test[target], predictions)) ** 0.5\n",
    "       \n",
    "        return rmse\n",
    "    \n",
    "    if k > 1:\n",
    "        lr = LinearRegression()\n",
    "        kf = KFold(n_splits = k, shuffle = True, random_state = 1) # remove randomseed \n",
    "        mses = cross_val_score(lr, feature_df[features], feature_df[target] ,scoring = \"neg_mean_squared_error\", cv = kf)\n",
    "        rmses = abs(mses) ** 0.5\n",
    "        print(rmses)\n",
    "        return np.mean(rmses)\n",
    "    \n",
    "    else:\n",
    "        print(\"wrong k given\")\n",
    "'''\n",
    "print(\"end\")"
   ]
  },
  {
   "cell_type": "code",
   "execution_count": null,
   "metadata": {
    "collapsed": true
   },
   "outputs": [],
   "source": []
  }
 ],
 "metadata": {
  "anaconda-cloud": {},
  "kernelspec": {
   "display_name": "Python 3",
   "language": "python",
   "name": "python3"
  },
  "language_info": {
   "codemirror_mode": {
    "name": "ipython",
    "version": 3
   },
   "file_extension": ".py",
   "mimetype": "text/x-python",
   "name": "python",
   "nbconvert_exporter": "python",
   "pygments_lexer": "ipython3",
   "version": "3.4.3"
  }
 },
 "nbformat": 4,
 "nbformat_minor": 2
}
