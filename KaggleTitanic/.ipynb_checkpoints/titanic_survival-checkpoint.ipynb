{
 "cells": [
  {
   "cell_type": "markdown",
   "metadata": {},
   "source": [
    "<font size=\"5\"><b><font color=\"darkblue\">Kaggle - Titanic: Machine Learning from Desaster: 81.34 Accuracy (Top 6 %)</b></font> \n",
    "\n",
    "<font size=\"3\"><font color=\"#323231\"><i>Goal of this project was to reach a scoring above 80% on the famous kaggle \"Titanic\" dataset. This was achieved\n",
    "through careful feature engineering and using a 3 Layer Neural Network with Dropout and Batch Norm on this    augmented dataset.</font>"
   ]
  },
  {
   "cell_type": "code",
   "execution_count": 1,
   "metadata": {},
   "outputs": [],
   "source": [
    "# Necessary imports\n",
    "import pandas as pd\n",
    "import numpy as np\n",
    "import matplotlib.pyplot as plt\n",
    "import tensorflow as tf\n",
    "import seaborn as sns\n",
    "%matplotlib inline\n",
    "import warnings\n",
    "warnings.filterwarnings('ignore')\n",
    "pd.set_option('display.max_rows', 1500)"
   ]
  },
  {
   "cell_type": "markdown",
   "metadata": {},
   "source": [
    "<font size=\"3\"><font color=\"#323231\"><i>My first step was combining training and test dataset into one in order to have it easier to apply my transformations. To be able to seperate them later, I added a flag \"Set\" as a column to both data sources. I also saved the test sets \"PassengerId\" column, as this was needed later to build the submission file."
   ]
  },
  {
   "cell_type": "code",
   "execution_count": 2,
   "metadata": {},
   "outputs": [
    {
     "data": {
      "text/html": [
       "<div>\n",
       "<style scoped>\n",
       "    .dataframe tbody tr th:only-of-type {\n",
       "        vertical-align: middle;\n",
       "    }\n",
       "\n",
       "    .dataframe tbody tr th {\n",
       "        vertical-align: top;\n",
       "    }\n",
       "\n",
       "    .dataframe thead th {\n",
       "        text-align: right;\n",
       "    }\n",
       "</style>\n",
       "<table border=\"1\" class=\"dataframe\">\n",
       "  <thead>\n",
       "    <tr style=\"text-align: right;\">\n",
       "      <th></th>\n",
       "      <th>Age</th>\n",
       "      <th>Cabin</th>\n",
       "      <th>Embarked</th>\n",
       "      <th>Fare</th>\n",
       "      <th>Name</th>\n",
       "      <th>Parch</th>\n",
       "      <th>PassengerId</th>\n",
       "      <th>Pclass</th>\n",
       "      <th>Set</th>\n",
       "      <th>Sex</th>\n",
       "      <th>SibSp</th>\n",
       "      <th>Survived</th>\n",
       "      <th>Ticket</th>\n",
       "    </tr>\n",
       "  </thead>\n",
       "  <tbody>\n",
       "    <tr>\n",
       "      <th>0</th>\n",
       "      <td>22.0</td>\n",
       "      <td>NaN</td>\n",
       "      <td>S</td>\n",
       "      <td>7.2500</td>\n",
       "      <td>Braund, Mr. Owen Harris</td>\n",
       "      <td>0</td>\n",
       "      <td>1</td>\n",
       "      <td>3</td>\n",
       "      <td>train</td>\n",
       "      <td>male</td>\n",
       "      <td>1</td>\n",
       "      <td>0</td>\n",
       "      <td>A/5 21171</td>\n",
       "    </tr>\n",
       "    <tr>\n",
       "      <th>1</th>\n",
       "      <td>38.0</td>\n",
       "      <td>C85</td>\n",
       "      <td>C</td>\n",
       "      <td>71.2833</td>\n",
       "      <td>Cumings, Mrs. John Bradley (Florence Briggs Th...</td>\n",
       "      <td>0</td>\n",
       "      <td>2</td>\n",
       "      <td>1</td>\n",
       "      <td>train</td>\n",
       "      <td>female</td>\n",
       "      <td>1</td>\n",
       "      <td>1</td>\n",
       "      <td>PC 17599</td>\n",
       "    </tr>\n",
       "    <tr>\n",
       "      <th>2</th>\n",
       "      <td>26.0</td>\n",
       "      <td>NaN</td>\n",
       "      <td>S</td>\n",
       "      <td>7.9250</td>\n",
       "      <td>Heikkinen, Miss. Laina</td>\n",
       "      <td>0</td>\n",
       "      <td>3</td>\n",
       "      <td>3</td>\n",
       "      <td>train</td>\n",
       "      <td>female</td>\n",
       "      <td>0</td>\n",
       "      <td>1</td>\n",
       "      <td>STON/O2. 3101282</td>\n",
       "    </tr>\n",
       "    <tr>\n",
       "      <th>3</th>\n",
       "      <td>35.0</td>\n",
       "      <td>C123</td>\n",
       "      <td>S</td>\n",
       "      <td>53.1000</td>\n",
       "      <td>Futrelle, Mrs. Jacques Heath (Lily May Peel)</td>\n",
       "      <td>0</td>\n",
       "      <td>4</td>\n",
       "      <td>1</td>\n",
       "      <td>train</td>\n",
       "      <td>female</td>\n",
       "      <td>1</td>\n",
       "      <td>1</td>\n",
       "      <td>113803</td>\n",
       "    </tr>\n",
       "    <tr>\n",
       "      <th>4</th>\n",
       "      <td>35.0</td>\n",
       "      <td>NaN</td>\n",
       "      <td>S</td>\n",
       "      <td>8.0500</td>\n",
       "      <td>Allen, Mr. William Henry</td>\n",
       "      <td>0</td>\n",
       "      <td>5</td>\n",
       "      <td>3</td>\n",
       "      <td>train</td>\n",
       "      <td>male</td>\n",
       "      <td>0</td>\n",
       "      <td>0</td>\n",
       "      <td>373450</td>\n",
       "    </tr>\n",
       "    <tr>\n",
       "      <th>5</th>\n",
       "      <td>NaN</td>\n",
       "      <td>NaN</td>\n",
       "      <td>Q</td>\n",
       "      <td>8.4583</td>\n",
       "      <td>Moran, Mr. James</td>\n",
       "      <td>0</td>\n",
       "      <td>6</td>\n",
       "      <td>3</td>\n",
       "      <td>train</td>\n",
       "      <td>male</td>\n",
       "      <td>0</td>\n",
       "      <td>0</td>\n",
       "      <td>330877</td>\n",
       "    </tr>\n",
       "    <tr>\n",
       "      <th>6</th>\n",
       "      <td>54.0</td>\n",
       "      <td>E46</td>\n",
       "      <td>S</td>\n",
       "      <td>51.8625</td>\n",
       "      <td>McCarthy, Mr. Timothy J</td>\n",
       "      <td>0</td>\n",
       "      <td>7</td>\n",
       "      <td>1</td>\n",
       "      <td>train</td>\n",
       "      <td>male</td>\n",
       "      <td>0</td>\n",
       "      <td>0</td>\n",
       "      <td>17463</td>\n",
       "    </tr>\n",
       "    <tr>\n",
       "      <th>7</th>\n",
       "      <td>2.0</td>\n",
       "      <td>NaN</td>\n",
       "      <td>S</td>\n",
       "      <td>21.0750</td>\n",
       "      <td>Palsson, Master. Gosta Leonard</td>\n",
       "      <td>1</td>\n",
       "      <td>8</td>\n",
       "      <td>3</td>\n",
       "      <td>train</td>\n",
       "      <td>male</td>\n",
       "      <td>3</td>\n",
       "      <td>0</td>\n",
       "      <td>349909</td>\n",
       "    </tr>\n",
       "    <tr>\n",
       "      <th>8</th>\n",
       "      <td>27.0</td>\n",
       "      <td>NaN</td>\n",
       "      <td>S</td>\n",
       "      <td>11.1333</td>\n",
       "      <td>Johnson, Mrs. Oscar W (Elisabeth Vilhelmina Berg)</td>\n",
       "      <td>2</td>\n",
       "      <td>9</td>\n",
       "      <td>3</td>\n",
       "      <td>train</td>\n",
       "      <td>female</td>\n",
       "      <td>0</td>\n",
       "      <td>1</td>\n",
       "      <td>347742</td>\n",
       "    </tr>\n",
       "    <tr>\n",
       "      <th>9</th>\n",
       "      <td>14.0</td>\n",
       "      <td>NaN</td>\n",
       "      <td>C</td>\n",
       "      <td>30.0708</td>\n",
       "      <td>Nasser, Mrs. Nicholas (Adele Achem)</td>\n",
       "      <td>0</td>\n",
       "      <td>10</td>\n",
       "      <td>2</td>\n",
       "      <td>train</td>\n",
       "      <td>female</td>\n",
       "      <td>1</td>\n",
       "      <td>1</td>\n",
       "      <td>237736</td>\n",
       "    </tr>\n",
       "  </tbody>\n",
       "</table>\n",
       "</div>"
      ],
      "text/plain": [
       "    Age Cabin Embarked     Fare  \\\n",
       "0  22.0   NaN        S   7.2500   \n",
       "1  38.0   C85        C  71.2833   \n",
       "2  26.0   NaN        S   7.9250   \n",
       "3  35.0  C123        S  53.1000   \n",
       "4  35.0   NaN        S   8.0500   \n",
       "5   NaN   NaN        Q   8.4583   \n",
       "6  54.0   E46        S  51.8625   \n",
       "7   2.0   NaN        S  21.0750   \n",
       "8  27.0   NaN        S  11.1333   \n",
       "9  14.0   NaN        C  30.0708   \n",
       "\n",
       "                                                Name  Parch  PassengerId  \\\n",
       "0                            Braund, Mr. Owen Harris      0            1   \n",
       "1  Cumings, Mrs. John Bradley (Florence Briggs Th...      0            2   \n",
       "2                             Heikkinen, Miss. Laina      0            3   \n",
       "3       Futrelle, Mrs. Jacques Heath (Lily May Peel)      0            4   \n",
       "4                           Allen, Mr. William Henry      0            5   \n",
       "5                                   Moran, Mr. James      0            6   \n",
       "6                            McCarthy, Mr. Timothy J      0            7   \n",
       "7                     Palsson, Master. Gosta Leonard      1            8   \n",
       "8  Johnson, Mrs. Oscar W (Elisabeth Vilhelmina Berg)      2            9   \n",
       "9                Nasser, Mrs. Nicholas (Adele Achem)      0           10   \n",
       "\n",
       "   Pclass    Set     Sex  SibSp  Survived            Ticket  \n",
       "0       3  train    male      1         0         A/5 21171  \n",
       "1       1  train  female      1         1          PC 17599  \n",
       "2       3  train  female      0         1  STON/O2. 3101282  \n",
       "3       1  train  female      1         1            113803  \n",
       "4       3  train    male      0         0            373450  \n",
       "5       3  train    male      0         0            330877  \n",
       "6       1  train    male      0         0             17463  \n",
       "7       3  train    male      3         0            349909  \n",
       "8       3  train  female      0         1            347742  \n",
       "9       2  train  female      1         1            237736  "
      ]
     },
     "execution_count": 2,
     "metadata": {},
     "output_type": "execute_result"
    }
   ],
   "source": [
    "train = pd.read_csv(\"datasets/titanic/train.csv\")\n",
    "test = pd.read_csv(\"datasets/titanic/test.csv\")\n",
    "passenger_ids = test[\"PassengerId\"]\n",
    "test[\"Survived\"] = 0\n",
    "test[\"Set\"] = \"test\"\n",
    "train[\"Set\"] = \"train\"\n",
    "data = train.append(test, sort=True)\n",
    "\n",
    "data.head(10)"
   ]
  },
  {
   "cell_type": "code",
   "execution_count": 3,
   "metadata": {},
   "outputs": [
    {
     "name": "stdout",
     "output_type": "stream",
     "text": [
      "<class 'pandas.core.frame.DataFrame'>\n",
      "Int64Index: 1309 entries, 0 to 417\n",
      "Data columns (total 13 columns):\n",
      "Age            1046 non-null float64\n",
      "Cabin          295 non-null object\n",
      "Embarked       1307 non-null object\n",
      "Fare           1308 non-null float64\n",
      "Name           1309 non-null object\n",
      "Parch          1309 non-null int64\n",
      "PassengerId    1309 non-null int64\n",
      "Pclass         1309 non-null int64\n",
      "Set            1309 non-null object\n",
      "Sex            1309 non-null object\n",
      "SibSp          1309 non-null int64\n",
      "Survived       1309 non-null int64\n",
      "Ticket         1309 non-null object\n",
      "dtypes: float64(2), int64(5), object(6)\n",
      "memory usage: 143.2+ KB\n"
     ]
    }
   ],
   "source": [
    "data.info()"
   ]
  },
  {
   "cell_type": "markdown",
   "metadata": {},
   "source": [
    "<font size=\"4\"><b><font color=\"darkblue\"> Step 1: Exploratory Data Analysis</b></font>\n"
   ]
  },
  {
   "cell_type": "markdown",
   "metadata": {},
   "source": [
    "<font size=\"3\"><font color=\"#323231\"><i>just from looking at the data, different conclusions can be drawn:\n",
    "- There are Missing values in the following columns: \"Age\", \"Cabin\" and \"Embarked\". Especially the \"Cabin\" column was missing most of it's entries. \n",
    "- Some columns contain strings and must first be converted into a more useful format.\n",
    "- Our labels are stored in the \"Survived\" column. Normally, there would be missing values for all the test set, but in our case, I decided to give those rows the label 0 as I needed that for a later transformation and after the whole process this column would be dropped from our test set anyways.\n",
    "- Every \"Cabin\" entry starts with a letter (A, B, C, D, E, F, G) followed by a number.\n",
    "- The \"Name\" column also stores some interesting information. From here it is possible to extract the passengers title e.g. \"Mr\", \"Mrs\", \"Lady\", \"Master\" ,... aswell as the last Name, that may be shared with other passengers.\n",
    "- The payed fares a widely variable and range from less than 10 to more than 150.\n",
    "    \n",
    "Let's further explore those observations:"
   ]
  },
  {
   "cell_type": "code",
   "execution_count": 4,
   "metadata": {},
   "outputs": [
    {
     "data": {
      "image/png": "[encoded data removed]",
      "text/plain": [
       "<Figure size 720x360 with 1 Axes>"
      ]
     },
     "metadata": {},
     "output_type": "display_data"
    }
   ],
   "source": [
    "sns.set(rc={'figure.figsize':(10,5)})\n",
    "sns.set_style(\"white\")\n",
    "plt.title(\"Survival by Gender\", {\"fontsize\": 14})\n",
    "sns.barplot(x=data[\"Sex\"], y=data[\"Survived\"])\n",
    "plt.ylabel(\"\")\n",
    "plt.xlabel(\"\")\n",
    "sns.despine()\n",
    "plt.show()"
   ]
  },
  {
   "cell_type": "markdown",
   "metadata": {},
   "source": [
    "<font size=\"3\"><font color=\"#323231\"><i>Males seem to have a significantly lower chance to survive."
   ]
  },
  {
   "cell_type": "code",
   "execution_count": 5,
   "metadata": {},
   "outputs": [
    {
     "data": {
      "image/png": "[encoded data removed]",
      "text/plain": [
       "<Figure size 720x360 with 1 Axes>"
      ]
     },
     "metadata": {},
     "output_type": "display_data"
    }
   ],
   "source": [
    "age_groups = data.groupby(pd.cut(data[\"Age\"], [0, 10, 18, 40, 60, 100])).mean()\n",
    "plt.title(\"Survival by Age\", {\"fontsize\": 14})\n",
    "sns.barplot(x=age_groups.index, y=age_groups[\"Survived\"])\n",
    "plt.ylabel(\"\")\n",
    "plt.xlabel(\"\")\n",
    "sns.despine()\n",
    "plt.show()"
   ]
  },
  {
   "cell_type": "markdown",
   "metadata": {},
   "source": [
    "<font size=\"3\"><font color=\"#323231\"><i>Children below 10 also seem to have better chances. The rate of survival decreases with increasing age."
   ]
  },
  {
   "cell_type": "code",
   "execution_count": 6,
   "metadata": {},
   "outputs": [
    {
     "data": {
      "image/png": "[encoded data removed]",
      "text/plain": [
       "<Figure size 720x360 with 1 Axes>"
      ]
     },
     "metadata": {},
     "output_type": "display_data"
    }
   ],
   "source": [
    "plt.title(\"Survival by Passenger Class\", {\"fontsize\": 14})\n",
    "sns.barplot(x=data[\"Pclass\"], y=data[\"Survived\"])\n",
    "plt.ylabel(\"\")\n",
    "plt.xlabel(\"\")\n",
    "sns.despine()\n",
    "plt.show()"
   ]
  },
  {
   "cell_type": "markdown",
   "metadata": {},
   "source": [
    "<font size=\"3\"><font color=\"#323231\"><i>First class has better survival rates than the second and third."
   ]
  },
  {
   "cell_type": "code",
   "execution_count": 7,
   "metadata": {},
   "outputs": [
    {
     "data": {
      "image/png": "[encoded data removed]",
      "text/plain": [
       "<Figure size 720x360 with 1 Axes>"
      ]
     },
     "metadata": {},
     "output_type": "display_data"
    }
   ],
   "source": [
    "fare_groups = data.groupby(pd.cut(data[\"Fare\"], [0,30,80,120, 170])).mean()\n",
    "plt.title(\"Survival by Fare\", {\"fontsize\": 14})\n",
    "sns.barplot(x=fare_groups.index, y=fare_groups[\"Survived\"])\n",
    "plt.ylabel(\"\")\n",
    "plt.xlabel(\"\")\n",
    "sns.despine()\n",
    "plt.show()"
   ]
  },
  {
   "cell_type": "markdown",
   "metadata": {},
   "source": [
    "<font size=\"3\"><font color=\"#323231\"><i>Survival rates increse with higher fares, altough the passengers that payed the highest fares had a lower survival rate tha those with high to very high fares."
   ]
  },
  {
   "cell_type": "code",
   "execution_count": 8,
   "metadata": {},
   "outputs": [
    {
     "data": {
      "image/png": "[encoded data removed]",
      "text/plain": [
       "<Figure size 720x360 with 1 Axes>"
      ]
     },
     "metadata": {},
     "output_type": "display_data"
    }
   ],
   "source": [
    "plt.title(\"Survival by Passenger Embark\", {\"fontsize\": 14})\n",
    "sns.barplot(x=data[\"Embarked\"], y=data[\"Survived\"])\n",
    "plt.ylabel(\"\")\n",
    "plt.xlabel(\"\")\n",
    "sns.despine()\n",
    "plt.show()"
   ]
  },
  {
   "cell_type": "markdown",
   "metadata": {},
   "source": [
    "<font size=\"3\"><font color=\"#323231\"><i>Altough it looks like passengers that embarked in Cherbourg have higher survival rates, this is probably just a random occurance as it is unlikely that it really impacts ones ability to survive a ship crash by entering the ship at a different location ;-)"
   ]
  },
  {
   "cell_type": "markdown",
   "metadata": {},
   "source": [
    "<font size=\"4\"><b><font color=\"darkblue\"> Step 2: Feature Engineering</b></font>\n"
   ]
  },
  {
   "cell_type": "markdown",
   "metadata": {},
   "source": [
    "<font size=\"3\"><font color=\"#323231\"><i>We have found some major correlations just by exploring the data, altough some of our features created in the following steps were just ideas or were created after training some models to further enhance performance."
   ]
  },
  {
   "cell_type": "code",
   "execution_count": 9,
   "metadata": {},
   "outputs": [],
   "source": [
    "# I used multiple functions to transform the data set as this enhanced the readability and made the \n",
    "# process simpler. \n",
    "\n",
    "# this function will transform the \"Sex\" column from String to categorical, create an \"Age_missing\" column\n",
    "# that indicates whether the ages was missing in the data set (Maybe it could not be recovered because the\n",
    "# passenger died with his documents?) and whether the cabin number was missing (I decided to add this, maybe\n",
    "# passengers that survived were responsible for entering their cabin numbers)\n",
    "\n",
    "def cat_to_bool(df):\n",
    "    df[\"Female\"] = df[\"Sex\"].str.get_dummies().iloc[:,0]\n",
    "    df[\"Age_missing\"] = df[\"Age\"].isnull().astype(\"int64\")\n",
    "    df[\"Cabin_missing\"] = df[\"Cabin\"].isnull().astype(\"int64\")\n",
    "\n",
    "# the following functions are used to extract the title from the \"Name\" column of the dataset. Altough titles from \n",
    "# the test set were extracted, they were later dropped if they did not occur in the training set. \n",
    "\n",
    "def get_title(row):\n",
    "    words = row.split(\" \")\n",
    "    for word in words:\n",
    "        if word.endswith(\".\"):\n",
    "            return word[:-1]\n",
    "    return np.nan\n",
    "\n",
    "def extract_title(df):\n",
    "    df[\"Title\"] = df[\"Name\"].apply(get_title)\n",
    "    \n",
    "# similar to the title extraction, these two functions extract the last names of the passengers. It was assumed\n",
    "# that the last name was the first word in the \"Name\" column.\n",
    "\n",
    "def get_last_name(row):\n",
    "    words = row.split(\" \")\n",
    "    return words[0]\n",
    "    \n",
    "def extract_last_name(df):\n",
    "    df[\"Last_name\"] = df[\"Name\"].apply(get_last_name)\n",
    "\n",
    "# with the last names, it was possible to check wether a person of the same last name had survived the sinking.\n",
    "# this proved to be a useful feature later on.\n",
    "    \n",
    "def relative_survived(df):\n",
    "    last_name_survived = dict()\n",
    "    train = df[df[\"Set\"] == \"train\"]\n",
    "    for last_name in train[\"Last_name\"].unique():\n",
    "        last_name_df = train[train[\"Last_name\"] == last_name]\n",
    "        survived = last_name_df[\"Survived\"].sum()\n",
    "        last_name_survived[last_name] = int(survived)\n",
    "    df[\"Relative_survived\"] = df[\"Last_name\"].map(last_name_survived) - df[\"Survived\"]\n",
    "    df.loc[df[\"Relative_survived\"] > 0, \"Relative_survived\"] = 1\n",
    "    df.loc[df[\"Relative_survived\"] == 0, \"Relative_survived\"] = 0\n",
    "\n",
    "# next I added various other features:\n",
    "#     - a column that counts how many passengers had the same cabin an thus indicates if two passengers shared the\n",
    "#       same room\n",
    "#     - a column that contains the letter of the cabin, which stands for the titanics floors\n",
    "#     - a column that combines the \"Parch\" and \"SibSp\" columns to a column named \"Family_size\", \n",
    "#       as they contain very similar information\n",
    "#     - a column that states whether the passenger traveled alone\n",
    "#     - I normalized the \"Fare\" column by the distance that was traveled after the embarking. I assumed some \n",
    "#       distances for the whole trip by looking on a map and dividing the fares by different numbers. This did\n",
    "#       increase the correlation to the survival rate by a tiny amount, so I decided to keep this instead of\n",
    "#       the original \"Fare\" column\n",
    "#     - I also constructed a column \"Survivability_idx\" that combined some features into a more useful index; I\n",
    "#       decided to reduce the paid fare if the passenger was female in order to combat the already higher survival\n",
    "#       chance, and add some penalty if the passenger traveled alone. \n",
    "\n",
    "def add_cols(df):\n",
    "    train = df[df[\"Set\"] == \"train\"]\n",
    "    df[\"Cabin_counts\"] = df[\"Cabin\"].map(df[\"Cabin\"].value_counts())\n",
    "    df[\"Cabin\"] = df[\"Cabin\"].str[0]\n",
    "    df[\"Family_size\"] = df[\"Parch\"] + df[\"SibSp\"] + 1\n",
    "    df[\"Alone\"] = df[\"Family_size\"] <= 1\n",
    "    df[\"Fare_distance\"] = df[\"Fare\"]\n",
    "    df.loc[df[\"Embarked\"] == \"S\",\"Fare_distance\"] = df.loc[df[\"Embarked\"] == \"S\",\"Fare_distance\"]/4.2\n",
    "    df.loc[df[\"Embarked\"] == \"C\",\"Fare_distance\"] = df.loc[df[\"Embarked\"] == \"C\",\"Fare_distance\"]/3.5\n",
    "    df.loc[df[\"Embarked\"] == \"Q\",\"Fare_distance\"] = df.loc[df[\"Embarked\"] == \"Q\",\"Fare_distance\"]/2.8\n",
    "    df[\"Survivability_idx\"] = (abs(df[\"Female\"] - 0.7)) * df[\"Fare_distance\"] + abs(df[\"Age\"] - 40) * (abs(df[\"Alone\"] - 0.6))\n",
    "\n",
    "# to fill in the missing ages, I used following function which uses the titles to get the mean age for that \n",
    "# corresponding title and fill all missing values belonging to that same title with this mean age.\n",
    "\n",
    "def guess_age(df):\n",
    "    title_ages = dict()\n",
    "    for title in df[\"Title\"].unique():\n",
    "        title_df = df[df[\"Title\"] == title]\n",
    "        title_ages[title] = title_df[\"Age\"].mean()\n",
    "    guessed_age = df[\"Title\"].map(title_ages)\n",
    "    df[\"Age\"] = df[\"Age\"].fillna(guessed_age)\n",
    "\n",
    "# With this function, useless columns were dropped. I especially removed all non numeric columns and some columns\n",
    "# that came from test set transformations or generally had high correlations with other columns such as \"SibSp\",\n",
    "# \"Parch\" or \"Fare\"\n",
    "\n",
    "def drop_cols(df):\n",
    "    # dropping columns that are not useful or have already been converted\n",
    "    df = df.drop([\"PassengerId\", \"Name\", \"Sex\", \"Ticket\", \"Cabin\", \"Pclass\", \"Embarked\", \"Title\",\n",
    "                 \"Title_Mlle\", \"Title_Dona\", \"Cabin_T\", \"Last_name\",\n",
    "                 \"Title_Jonkheer\",\"Title_Mme\", \"Parch\", \"SibSp\", \"Cabin_missing\", \"Fare\",\n",
    "                  \"Cabin_F\", \"Title_Don\"\n",
    "                 ], axis=1, inplace=True)\n",
    "\n",
    "# This function was used to create dummy columns for categoric features.  \n",
    "\n",
    "def create_dummies(df):\n",
    "    df[[\"Class_\"+ str(s) for s in df[\"Pclass\"].dropna().unique()]] = pd.get_dummies(df[\"Pclass\"])\n",
    "    df[[\"Title_\"+ str(s) for s in df[\"Title\"].dropna().unique()]] = pd.get_dummies(df[\"Title\"])\n",
    "    df[[\"Cabin_\" + str(s) for s in df[\"Cabin\"].dropna().unique()]] = pd.get_dummies(df[\"Cabin\"])\n",
    "    #df[[\"Embarked_\" + str(s) for s in df[\"Embarked\"].dropna().unique()]] = pd.get_dummies(df[\"Embarked\"])\n",
    "\n",
    "# The remaining missing values were filled with fitting values.\n",
    "\n",
    "def replace_nan(df):\n",
    "    df[\"Age\"] = df[\"Age\"].fillna(df[df[\"Set\"] == \"train\"].loc[:,\"Age\"].mean())\n",
    "    df[\"Cabin_counts\"] = df[\"Cabin_counts\"].fillna(-1)\n",
    "    df[\"Relative_survived\"] = df[\"Relative_survived\"].fillna(0)\n",
    "\n",
    "# combining all transformation functions:\n",
    "\n",
    "def transform_df(df):\n",
    "    cat_to_bool(df)\n",
    "    extract_title(df)\n",
    "    extract_last_name(df)\n",
    "    relative_survived(df)\n",
    "    guess_age(df)\n",
    "    add_cols(df)\n",
    "    create_dummies(df)\n",
    "    replace_nan(df)\n",
    "    drop_cols(df)\n",
    "    \n",
    "# Finally a function to ectract the numpy array used by the models from the Dataframe. This also took care\n",
    "# of separating training and test set again.\n",
    "def df_to_array(df):\n",
    "    train = df[df[\"Set\"] == \"train\"].drop(\"Set\", axis=1)\n",
    "    test = df[df[\"Set\"] == \"test\"].drop(\"Set\", axis=1)\n",
    "    y = train[\"Survived\"].values\n",
    "    X = train.drop([\"Survived\"], axis=1).values\n",
    "    X_test = test.drop([\"Survived\"], axis=1)\n",
    "    return X, y, X_test\n",
    "    \n",
    "transform_df(data)"
   ]
  },
  {
   "cell_type": "markdown",
   "metadata": {},
   "source": [
    "<font size=\"3\"><font color=\"#323231\"><i>After all this feature engineering, let us look at the correlations of the created features:\n",
    "- The \"Title\" features are all over the place, I decided to largely ignore those correlations as those features are binary anyway\n",
    "- The \"Female\" column has the highest correlation with \"Survived\" in the whole dataset\n",
    "- The \"Fare_distance\" and \"Relative_survived\" aswell as \"Alone\" and \"Survivability_idx\" seem to be other useful features"
   ]
  },
  {
   "cell_type": "code",
   "execution_count": 10,
   "metadata": {},
   "outputs": [
    {
     "data": {
      "text/plain": [
       "Survived             1.000000\n",
       "Title_Col            0.549199\n",
       "Female               0.543351\n",
       "Title_Capt           0.339040\n",
       "Title_Lady           0.327093\n",
       "Class_2              0.322308\n",
       "Cabin_counts         0.311507\n",
       "Class_3              0.285904\n",
       "Fare_distance        0.260027\n",
       "Relative_survived    0.227130\n",
       "Alone                0.203367\n",
       "Cabin_E              0.175095\n",
       "Survivability_idx    0.170445\n",
       "Cabin_D              0.150716\n",
       "Cabin_A              0.145321\n",
       "Cabin_G              0.114652\n",
       "Class_1              0.093349\n",
       "Age_missing          0.092197\n",
       "Age                  0.087092\n",
       "Title_Major          0.085221\n",
       "Title_Sir            0.060095\n",
       "Cabin_B              0.057935\n",
       "Title_Countess       0.042470\n",
       "Title_Miss           0.042470\n",
       "Title_Dr             0.026456\n",
       "Title_Mr             0.026456\n",
       "Title_Master         0.026456\n",
       "Cabin_C              0.022287\n",
       "Family_size          0.016639\n",
       "Title_Ms             0.011329\n",
       "Title_Mrs            0.011329\n",
       "Title_Rev            0.008185\n",
       "Name: Survived, dtype: float64"
      ]
     },
     "execution_count": 10,
     "metadata": {},
     "output_type": "execute_result"
    }
   ],
   "source": [
    "train_transformed = data[data[\"Set\"] == \"train\"]\n",
    "train_transformed.corr()[\"Survived\"].abs().sort_values(ascending=False)"
   ]
  },
  {
   "cell_type": "markdown",
   "metadata": {},
   "source": [
    "<font size=\"3\"><font color=\"#323231\"><i>My next step was scaling the data. The features were on largely different scales and had to be normalized. I excluded all binary columns from this, as scaling those cold worsen our models performances. "
   ]
  },
  {
   "cell_type": "code",
   "execution_count": 11,
   "metadata": {},
   "outputs": [],
   "source": [
    "from sklearn.preprocessing import StandardScaler"
   ]
  },
  {
   "cell_type": "code",
   "execution_count": 12,
   "metadata": {},
   "outputs": [],
   "source": [
    "cat_cols = [\"Female\", \"Age_missing\", \"Relative_survived\", \"Alone\", \"Class_3\", \"Class_2\", \"Class_1\", \"Title_Mr\",\n",
    "           \"Title_Mrs\", \"Title_Ms\", \"Title_Major\", \"Title_Master\", \"Title_Miss\", \"Title_Rev\", \"Title_Dr\",\n",
    "           \"Title_Lady\", \"Title_Sir\", \"Title_Col\", \"Title_Capt\", \"Title_Countess\", \"Cabin_C\", \"Cabin_E\", \"Cabin_G\",\n",
    "           \"Cabin_D\", \"Cabin_A\", \"Cabin_B\"]\n",
    "\n",
    "data_cat = data[cat_cols]\n",
    "data_cat[[\"Survived\", \"Set\"]] = data[[\"Survived\", \"Set\"]] \n",
    "data_num = data.drop(cat_cols, axis=1)\n",
    "X_num, y, X_test_num = df_to_array(data_num)\n",
    "X_cat, throwaway, X_test_cat = df_to_array(data_cat)\n",
    "\n",
    "#print(data_num.drop([\"Survived\", \"Set\"], axis=1).columns)\n",
    "#print(data_cat.drop([\"Survived\", \"Set\"], axis=1).columns)\n",
    "\n",
    "scaler = StandardScaler()\n",
    "X_num_scaled = scaler.fit_transform(X_num)\n",
    "X_scaled = np.c_[X_num_scaled, X_cat]"
   ]
  },
  {
   "cell_type": "code",
   "execution_count": 13,
   "metadata": {},
   "outputs": [
    {
     "name": "stdout",
     "output_type": "stream",
     "text": [
      "(891, 31) (891,)\n"
     ]
    }
   ],
   "source": [
    "print(X_scaled.shape, y.shape)"
   ]
  },
  {
   "cell_type": "markdown",
   "metadata": {},
   "source": [
    "<font size=\"4\"><b><font color=\"darkblue\"> Step 3: Model Selection and Fine Tuning</b></font>\n"
   ]
  },
  {
   "cell_type": "markdown",
   "metadata": {},
   "source": [
    "<font size=\"3\"><font color=\"#323231\"><i>I decided to try different models, but settled on three main ones as they proved to be the most promising:\n",
    "- Logistic Regression\n",
    "- Random Forests\n",
    "- Deep Neural Network"
   ]
  },
  {
   "cell_type": "code",
   "execution_count": 14,
   "metadata": {},
   "outputs": [],
   "source": [
    "from sklearn.linear_model import LogisticRegression\n",
    "from sklearn.model_selection import cross_val_score\n",
    "from sklearn.model_selection import GridSearchCV\n",
    "from sklearn.ensemble import RandomForestClassifier\n",
    "from sklearn.feature_selection import SelectFromModel"
   ]
  },
  {
   "cell_type": "markdown",
   "metadata": {},
   "source": [
    "<font size=\"3\"><font color=\"#323231\"><i>Model 1 - Logistic Regression:\n",
    "- I used a mask to select the features used in my logistic regression model. In the following, all features\n",
    "are selected, as I decided to stop using LR and focus on Neural Nets and Random Forests. With the right features,\n",
    "the LR Model scored roughly 83% accuracy in cross validation."
   ]
  },
  {
   "cell_type": "code",
   "execution_count": 15,
   "metadata": {},
   "outputs": [
    {
     "name": "stdout",
     "output_type": "stream",
     "text": [
      "{'C': 1, 'max_iter': 500}\n"
     ]
    }
   ],
   "source": [
    "lr_mask = [True, True, True, True, True, True, True, True, True, True,\n",
    "           True, True, True, True, True, True, True, True, True, \n",
    "           True, True, True, True, True, True, True, True, True, \n",
    "           True, True, True]\n",
    "\n",
    "lr_params = {\n",
    "    \"C\": [0.1, 0.3, 1],\n",
    "    \"max_iter\": [500]\n",
    "}\n",
    "lr_clf = LogisticRegression(solver=\"lbfgs\", random_state=42)\n",
    "lr_grid = GridSearchCV(lr_clf, lr_params, cv=10, scoring=\"recall\")\n",
    "lr_grid.fit(X_scaled[:, lr_mask], y)\n",
    "print(lr_grid.best_params_)"
   ]
  },
  {
   "cell_type": "code",
   "execution_count": 16,
   "metadata": {},
   "outputs": [
    {
     "name": "stdout",
     "output_type": "stream",
     "text": [
      "0.7630082335964689\n"
     ]
    }
   ],
   "source": [
    "print(lr_grid.cv_results_[\"mean_test_score\"].max())"
   ]
  },
  {
   "cell_type": "markdown",
   "metadata": {},
   "source": [
    "<font size=\"3\"><font color=\"#323231\"><i>Model 2 - Decision Trees:\n",
    "- I used scikit-learns SelectFromModel to get features that were useful in enhancing the decision trees impurity.\n",
    "This method automatically filtered out some useless features. I manually tuned the cutoff threshold as a hyperparameter to maximize the CV score of my model.\n",
    "- I used GridSearchCV in order to identify the best hyperparameters for my decision tree. In addition, I focused on maximizing the f1 score as I found that the accuracy was already pretty good on all hyperparameters.\n",
    "- The model was used in my first few submissions (gradually adding more feature engineering and Fine Tuning) and scored roughly 80% accuracy on the kaggle test set, which put me in the top 15% on the Leaderboard.\n",
    "    "
   ]
  },
  {
   "cell_type": "code",
   "execution_count": 17,
   "metadata": {},
   "outputs": [
    {
     "name": "stdout",
     "output_type": "stream",
     "text": [
      "['Age' 'Cabin_counts' 'Family_size' 'Fare_distance' 'Survivability_idx'\n",
      " 'Female' 'Age_missing' 'Relative_survived' 'Alone' 'Class_3' 'Class_2'\n",
      " 'Class_1' 'Title_Lady' 'Title_Col' 'Title_Capt']\n"
     ]
    }
   ],
   "source": [
    "sel_clf = SelectFromModel(RandomForestClassifier(n_estimators=100, random_state=42), threshold=\"0.3*mean\")\n",
    "sel_clf.fit(X_scaled, y)\n",
    "\n",
    "all_cols = list(data_num.drop([\"Survived\", \"Set\"], axis=1).columns) + list(data_cat.drop([\"Survived\", \"Set\"], axis=1).columns)\n",
    "sel_features = np.array(all_cols)[sel_clf.get_support()]\n",
    "print(sel_features)\n",
    "X_scaled = X_scaled[:, sel_clf.get_support()]  "
   ]
  },
  {
   "cell_type": "code",
   "execution_count": 18,
   "metadata": {},
   "outputs": [
    {
     "name": "stdout",
     "output_type": "stream",
     "text": [
      "{'max_depth': 6, 'max_leaf_nodes': 37, 'min_samples_leaf': 2, 'min_samples_split': 5, 'n_estimators': 200}\n"
     ]
    }
   ],
   "source": [
    "rf_params = {\n",
    "    \"n_estimators\": [200],\n",
    "    \"max_depth\": [6],\n",
    "    \"min_samples_leaf\": [2],\n",
    "    \"min_samples_split\": [5],\n",
    "    #\"max_features\": [14]\n",
    "    \"max_leaf_nodes\": [37]\n",
    "}\n",
    "\n",
    "rf_clf = RandomForestClassifier(random_state=42)\n",
    "rf_grid = GridSearchCV(rf_clf, rf_params, cv= 10, scoring=\"f1_macro\")\n",
    "rf_grid.fit(X_scaled, y)\n",
    "print(rf_grid.best_params_)"
   ]
  },
  {
   "cell_type": "code",
   "execution_count": 19,
   "metadata": {},
   "outputs": [
    {
     "name": "stdout",
     "output_type": "stream",
     "text": [
      "[0.87192245]\n"
     ]
    }
   ],
   "source": [
    "print(rf_grid.cv_results_[\"mean_train_score\"])"
   ]
  },
  {
   "cell_type": "code",
   "execution_count": 20,
   "metadata": {},
   "outputs": [
    {
     "name": "stdout",
     "output_type": "stream",
     "text": [
      "0.8301679129949154\n"
     ]
    }
   ],
   "source": [
    "print(rf_grid.cv_results_[\"mean_test_score\"].max())"
   ]
  },
  {
   "cell_type": "markdown",
   "metadata": {},
   "source": [
    "<font size=\"3\"><font color=\"#323231\"><i>The next step includes saving the predictions with the passenger Id's into a csv file that could be used to score the predictions using kaggles grader."
   ]
  },
  {
   "cell_type": "code",
   "execution_count": 21,
   "metadata": {},
   "outputs": [],
   "source": [
    "X_test_num = X_test_num.fillna(-1)\n",
    "X_test_cat = X_test_cat.fillna(-1)\n",
    "\n",
    "X_test_num_scaled = scaler.transform(X_test_num)\n",
    "X_test_scaled = np.c_[X_test_num_scaled, X_test_cat]\n",
    "X_test_scaled = X_test_scaled[:, sel_clf.get_support()]\n",
    "predictions_test = rf_grid.best_estimator_.predict(X_test_scaled)\n",
    "\n",
    "predicted = pd.DataFrame()\n",
    "predicted[\"PassengerId\"] = passenger_ids\n",
    "predicted[\"Survived\"] = predictions_test.astype(\"int32\")\n",
    "predicted.to_csv(\"preds.csv\", header=True, index=False)\n"
   ]
  },
  {
   "cell_type": "code",
   "execution_count": 22,
   "metadata": {},
   "outputs": [
    {
     "data": {
      "text/html": [
       "<div>\n",
       "<style scoped>\n",
       "    .dataframe tbody tr th:only-of-type {\n",
       "        vertical-align: middle;\n",
       "    }\n",
       "\n",
       "    .dataframe tbody tr th {\n",
       "        vertical-align: top;\n",
       "    }\n",
       "\n",
       "    .dataframe thead th {\n",
       "        text-align: right;\n",
       "    }\n",
       "</style>\n",
       "<table border=\"1\" class=\"dataframe\">\n",
       "  <thead>\n",
       "    <tr style=\"text-align: right;\">\n",
       "      <th></th>\n",
       "      <th>PassengerId</th>\n",
       "      <th>Survived</th>\n",
       "    </tr>\n",
       "  </thead>\n",
       "  <tbody>\n",
       "    <tr>\n",
       "      <th>0</th>\n",
       "      <td>892</td>\n",
       "      <td>0</td>\n",
       "    </tr>\n",
       "    <tr>\n",
       "      <th>1</th>\n",
       "      <td>893</td>\n",
       "      <td>0</td>\n",
       "    </tr>\n",
       "    <tr>\n",
       "      <th>2</th>\n",
       "      <td>894</td>\n",
       "      <td>0</td>\n",
       "    </tr>\n",
       "    <tr>\n",
       "      <th>3</th>\n",
       "      <td>895</td>\n",
       "      <td>0</td>\n",
       "    </tr>\n",
       "    <tr>\n",
       "      <th>4</th>\n",
       "      <td>896</td>\n",
       "      <td>1</td>\n",
       "    </tr>\n",
       "    <tr>\n",
       "      <th>5</th>\n",
       "      <td>897</td>\n",
       "      <td>0</td>\n",
       "    </tr>\n",
       "    <tr>\n",
       "      <th>6</th>\n",
       "      <td>898</td>\n",
       "      <td>1</td>\n",
       "    </tr>\n",
       "    <tr>\n",
       "      <th>7</th>\n",
       "      <td>899</td>\n",
       "      <td>0</td>\n",
       "    </tr>\n",
       "    <tr>\n",
       "      <th>8</th>\n",
       "      <td>900</td>\n",
       "      <td>1</td>\n",
       "    </tr>\n",
       "    <tr>\n",
       "      <th>9</th>\n",
       "      <td>901</td>\n",
       "      <td>0</td>\n",
       "    </tr>\n",
       "  </tbody>\n",
       "</table>\n",
       "</div>"
      ],
      "text/plain": [
       "   PassengerId  Survived\n",
       "0          892         0\n",
       "1          893         0\n",
       "2          894         0\n",
       "3          895         0\n",
       "4          896         1\n",
       "5          897         0\n",
       "6          898         1\n",
       "7          899         0\n",
       "8          900         1\n",
       "9          901         0"
      ]
     },
     "execution_count": 22,
     "metadata": {},
     "output_type": "execute_result"
    }
   ],
   "source": [
    "testing = pd.read_csv(\"preds.csv\")\n",
    "testing.head(10)"
   ]
  },
  {
   "cell_type": "markdown",
   "metadata": {},
   "source": [
    "<font size=\"3\"><font color=\"#323231\"><i>Model 3 - Deep Neural Network:\n",
    "- I decided to give a Neural Network a try as my Random Forest was improving on the CV data but not on kaggles test set\n",
    "- The network was created in tensorflow to allow for more customization; I decided to use dropout and batch normalization in the network. The dropoout rate was tuned like a Hyperparameter\n",
    "- Weights were initialized using Xavier initialization\n",
    "- Since the dataset is rather small, I implemented Cross Validation to get a more robust estimate of the networks performance\n",
    "- For each fold, I stared with re-initializing the weights in order to prevent Overfitting. I also used slight l2 regularization and different dropout rates in the layers to reduce Overfitting\n",
    "- After the training and scoring for each fold is finished, the network trains for 400 iterations on all of the data in order to make most of it.\n",
    "- This Model scored better and worse on some folds, but could go up to 90% validation accuracy, averaging at around 84% during CV with low Overfitting. The predictions on the test data proved to be the best of all my models and scored 81.34% accuracy on kaggles grader, which puts it in the top 6% of models (at the time this notebook was written)\n",
    "  \n",
    "    "
   ]
  },
  {
   "cell_type": "code",
   "execution_count": 23,
   "metadata": {},
   "outputs": [],
   "source": [
    "X_train_ = X_scaled.astype(\"float32\")\n",
    "y_train_ = y.astype(\"int32\").reshape(-1, 1)\n",
    "X_val_ = X_scaled.astype(\"float32\")\n",
    "y_val_ = y.astype(\"int32\").reshape(-1, 1)\n",
    "X_test_ = X_test_scaled.astype(\"float32\")"
   ]
  },
  {
   "cell_type": "code",
   "execution_count": 24,
   "metadata": {},
   "outputs": [],
   "source": [
    "tf.reset_default_graph()"
   ]
  },
  {
   "cell_type": "code",
   "execution_count": 25,
   "metadata": {},
   "outputs": [],
   "source": [
    "n_inputs = X_train_.shape[1]\n",
    "n_hidden_1 = 400\n",
    "n_hidden_2 = 400\n",
    "n_outputs = 1\n",
    "\n",
    "learning_rate = 0.01\n",
    "\n",
    "dropout_rate_0 = 0.2\n",
    "dropout_rate_1 = 0.5\n",
    "dropout_rate_2 = 0.15\n",
    "\n",
    "training = tf.placeholder_with_default(False, shape=(), name=\"training\")\n",
    "\n",
    "X = tf.placeholder(tf.float32, shape=(None, n_inputs), name=\"X\")\n",
    "y = tf.placeholder(tf.float32, shape=(None, 1), name=\"y\")\n",
    "\n",
    "with tf.name_scope(\"neural_network\"):\n",
    "    xavier_init = tf.contrib.layers.xavier_initializer()\n",
    "    \n",
    "    X_drop = tf.layers.dropout(X, dropout_rate_0, training=training)\n",
    "    \n",
    "    hidden_1 = tf.layers.dense(X_drop, n_hidden_1, kernel_regularizer=tf.contrib.layers.l2_regularizer(0.01), kernel_initializer=xavier_init, name=\"hidden_1\")\n",
    "    bn1 = tf.layers.batch_normalization(hidden_1, training=training, momentum=0.9)\n",
    "    bn1_act = tf.nn.elu(bn1)\n",
    "    hidden_1_drop = tf.layers.dropout(bn1_act, dropout_rate_1, training=training)\n",
    "    \n",
    "    hidden_2 = tf.layers.dense(hidden_1_drop, n_hidden_2, kernel_regularizer=tf.contrib.layers.l2_regularizer(0.01), kernel_initializer=xavier_init, name=\"hidden_2\")\n",
    "    bn2 = tf.layers.batch_normalization(hidden_2, training=training, momentum=0.9)\n",
    "    bn2_act = tf.nn.elu(bn2)\n",
    "    hidden_2_drop = tf.layers.dropout(bn2_act, dropout_rate_2, training=training)\n",
    "    \n",
    "    logits = tf.layers.dense(hidden_2_drop, n_outputs, kernel_initializer=xavier_init, name=\"outputs\")\n",
    "\n",
    "with tf.name_scope(\"loss\"):\n",
    "    #sigmoids = tf.nn.sigmoid(logits)\n",
    "    #loss = y * -tf.log(sigmoids) + 3 * (1 - y) * -tf.log(1 - sigmoids) + tf.losses.get_regularization_loss()\n",
    "    #loss = tf.reduce_mean(loss)\n",
    "    xentropy = tf.nn.sigmoid_cross_entropy_with_logits(labels=y, logits=logits)\n",
    "    loss = tf.reduce_mean(xentropy, name=\"loss\") + tf.losses.get_regularization_loss()\n",
    "    \n",
    "    \n",
    "with tf.name_scope(\"train\"):\n",
    "    optimizer = tf.train.AdamOptimizer(learning_rate=learning_rate)\n",
    "    training_op = optimizer.minimize(loss)\n",
    "    \n",
    "with tf.name_scope(\"eval\"):\n",
    "    predicted = tf.round(tf.nn.sigmoid(logits))\n",
    "    correct = tf.equal(predicted, y)\n",
    "    \n",
    "    accuracy = tf.reduce_mean(tf.cast(correct, tf.float32))\n",
    "    \n",
    "    TP = tf.count_nonzero(predicted * y)\n",
    "    TN = tf.count_nonzero((predicted - 1) * (y - 1))\n",
    "    FP = tf.count_nonzero(predicted * (y - 1))\n",
    "    FN = tf.count_nonzero((predicted - 1) * y)\n",
    "    \n",
    "    precision = TP / (TP + FP)\n",
    "    recall = TP / (TP + FN)\n",
    "    f1 = 2 * precision * recall / (precision + recall)\n",
    "    \n",
    "    w = [v for v in tf.trainable_variables() if v.name == \"hidden_1/kernel:0\"][0]\n",
    "\n",
    "init = tf.global_variables_initializer()\n",
    "saver = tf.train.Saver()"
   ]
  },
  {
   "cell_type": "code",
   "execution_count": 26,
   "metadata": {
    "scrolled": false
   },
   "outputs": [
    {
     "name": "stdout",
     "output_type": "stream",
     "text": [
      "Epoch:  0  Train_loss  3.2982535 Val_loss 3.8188324\n",
      "Epoch:  100  Train_loss  0.4352552 Val_loss 0.52110785\n",
      "Epoch:  200  Train_loss  0.4336008 Val_loss 0.5119908\n",
      "Epoch:  300  Train_loss  0.44887343 Val_loss 0.5273264\n",
      "\n",
      "Fold:  1\n",
      "Training Accuracy:  0.8451935  Validation Accuracy:  0.8333333\n",
      "Training F1:  0.7891156462585035  Validation F1:  0.8\n",
      "\n",
      "Epoch:  0  Train_loss  2.997153 Val_loss 3.2310205\n",
      "Epoch:  100  Train_loss  0.44759002 Val_loss 0.45628658\n",
      "Epoch:  200  Train_loss  0.45620748 Val_loss 0.45857835\n",
      "Epoch:  300  Train_loss  0.44954303 Val_loss 0.497711\n",
      "\n",
      "Fold:  2\n",
      "Training Accuracy:  0.8426966  Validation Accuracy:  0.87777776\n",
      "Training F1:  0.7913907284768212  Validation F1:  0.7441860465116279\n",
      "\n",
      "Epoch:  0  Train_loss  3.1932993 Val_loss 3.2805176\n",
      "Epoch:  100  Train_loss  0.43881238 Val_loss 0.5162769\n",
      "Epoch:  200  Train_loss  0.43383673 Val_loss 0.54330224\n",
      "Epoch:  300  Train_loss  0.43906426 Val_loss 0.53163\n",
      "\n",
      "Fold:  3\n",
      "Training Accuracy:  0.8489388  Validation Accuracy:  0.7777778\n",
      "Training F1:  0.7924528301886792  Validation F1:  0.7058823529411765\n",
      "\n",
      "Epoch:  0  Train_loss  3.284288 Val_loss 3.3646567\n",
      "Epoch:  100  Train_loss  0.43695742 Val_loss 0.4761194\n",
      "Epoch:  200  Train_loss  0.43607813 Val_loss 0.48467398\n",
      "Epoch:  300  Train_loss  0.43912348 Val_loss 0.5161547\n",
      "\n",
      "Fold:  4\n",
      "Training Accuracy:  0.8377029  Validation Accuracy:  0.84444445\n",
      "Training F1:  0.7619047619047619  Validation F1:  0.8372093023255814\n",
      "\n",
      "Epoch:  0  Train_loss  2.8823535 Val_loss 3.1259315\n",
      "Epoch:  100  Train_loss  0.44275016 Val_loss 0.49466464\n",
      "Epoch:  200  Train_loss  0.44924203 Val_loss 0.46120203\n",
      "Epoch:  300  Train_loss  0.45238054 Val_loss 0.47672933\n",
      "\n",
      "Fold:  5\n",
      "Training Accuracy:  0.8514357  Validation Accuracy:  0.84444445\n",
      "Training F1:  0.7863554757630161  Validation F1:  0.8\n",
      "\n",
      "Epoch:  0  Train_loss  2.8701928 Val_loss 2.879392\n",
      "Epoch:  100  Train_loss  0.44830865 Val_loss 0.43630174\n",
      "Epoch:  200  Train_loss  0.4512839 Val_loss 0.44003484\n",
      "Epoch:  300  Train_loss  0.45888245 Val_loss 0.46071738\n",
      "\n",
      "Fold:  6\n",
      "Training Accuracy:  0.8439451  Validation Accuracy:  0.8333333\n",
      "Training F1:  0.7818499127399651  Validation F1:  0.7540983606557377\n",
      "\n",
      "Epoch:  0  Train_loss  2.817634 Val_loss 2.8235216\n",
      "Epoch:  100  Train_loss  0.4394004 Val_loss 0.48008958\n",
      "Epoch:  200  Train_loss  0.4581528 Val_loss 0.53983164\n",
      "Epoch:  300  Train_loss  0.4343373 Val_loss 0.47047877\n",
      "\n",
      "Fold:  7\n",
      "Training Accuracy:  0.8426966  Validation Accuracy:  0.8111111\n",
      "Training F1:  0.7804878048780487  Validation F1:  0.7301587301587302\n",
      "\n",
      "Epoch:  0  Train_loss  2.808667 Val_loss 2.8438945\n",
      "Epoch:  100  Train_loss  0.45894983 Val_loss 0.50788254\n",
      "Epoch:  200  Train_loss  0.45693743 Val_loss 0.5061607\n",
      "Epoch:  300  Train_loss  0.44971475 Val_loss 0.4566218\n",
      "\n",
      "Fold:  8\n",
      "Training Accuracy:  0.8389513  Validation Accuracy:  0.8333333\n",
      "Training F1:  0.7794871794871795  Validation F1:  0.7368421052631579\n",
      "\n",
      "Epoch:  0  Train_loss  2.807343 Val_loss 2.5930867\n",
      "Epoch:  100  Train_loss  0.45892856 Val_loss 0.45141596\n",
      "Epoch:  200  Train_loss  0.4570354 Val_loss 0.4526779\n",
      "Epoch:  300  Train_loss  0.48014727 Val_loss 0.44373247\n",
      "\n",
      "Fold:  9\n",
      "Training Accuracy:  0.83021224  Validation Accuracy:  0.8888889\n",
      "Training F1:  0.7718120805369127  Validation F1:  0.84375\n",
      "\n",
      "Epoch:  0  Train_loss  2.7857528 Val_loss 2.5204391\n",
      "Epoch:  100  Train_loss  0.45284665 Val_loss 0.4141786\n",
      "Epoch:  200  Train_loss  0.46389502 Val_loss 0.42972913\n",
      "Epoch:  300  Train_loss  0.45913863 Val_loss 0.42274636\n",
      "\n",
      "Fold:  10\n",
      "Training Accuracy:  0.8458693  Validation Accuracy:  0.8625\n",
      "Training F1:  0.7848537005163512  Validation F1:  0.8070175438596492\n",
      "\n",
      "Training with all Data...\n",
      "Mean Training Acc.:  0.8427642  Mean Validation Acc.:  0.8406944  Mean Training F1:  0.7819710120750238  Mean Validation F1:  0.7759144441715661\n"
     ]
    }
   ],
   "source": [
    "def get_fold(fold, X=X_train_, y=y_train_, k_folds=10):\n",
    "    m = X.shape[0]\n",
    "    fold_size = np.ceil(m/k_folds)\n",
    "    if fold != (k_folds-1):\n",
    "        idx = slice(int(fold*fold_size), int((fold+1)*fold_size))\n",
    "    elif fold == (k_folds-1):\n",
    "        idx = slice(int(fold*fold_size), int(m-1))\n",
    "    else:\n",
    "        raise ValueError(\"Error at get_fold\", fold)\n",
    "        \n",
    "    X_val = X[idx, :]\n",
    "    y_val = y[idx, :]\n",
    "    X_train = np.delete(X, idx, axis=0)\n",
    "    y_train = np.delete(y, idx, axis=0)\n",
    "    \n",
    "    return X_train, y_train, X_val, y_val\n",
    "    \n",
    "n_epochs = 400\n",
    "k_folds = 10\n",
    "\n",
    "bn_updates = tf.get_collection(tf.GraphKeys.UPDATE_OPS)\n",
    "\n",
    "with tf.Session() as sess:\n",
    "    train_accs = []\n",
    "    val_accs = []\n",
    "    train_f1 = []\n",
    "    val_f1 = []\n",
    "    \n",
    "    init.run()\n",
    "    \n",
    "    for fold in range(0, k_folds+1):\n",
    "        init.run()\n",
    "        if fold < k_folds:\n",
    "            X_train, y_train, X_val, y_val = get_fold(fold=fold, k_folds=10)\n",
    "        if fold == k_folds:\n",
    "            print(\"Training with all Data...\")\n",
    "            X_train = X_train_\n",
    "            y_train = y_train_\n",
    "        for epoch in range(n_epochs):\n",
    "            sess.run([training_op, bn_updates], feed_dict={training: True, X: X_train, y: y_train})  \n",
    "            if epoch % 100 == 0:\n",
    "                #print(w.eval())\n",
    "                if fold < k_folds:\n",
    "                    print(\"Epoch: \", epoch, \" Train_loss \", loss.eval(feed_dict={X: X_train, y: y_train}), \"Val_loss\", loss.eval(feed_dict={X: X_val, y: y_val}))\n",
    "        \n",
    "        acc_train = accuracy.eval(feed_dict={X: X_train, y: y_train})\n",
    "        acc_val = accuracy.eval(feed_dict={X: X_val, y: y_val})\n",
    "        f1_train = f1.eval(feed_dict={X: X_train, y: y_train})\n",
    "        f1_val = f1.eval(feed_dict={X: X_val, y: y_val})\n",
    "        \n",
    "        if fold < k_folds:\n",
    "            train_accs.append(acc_train)\n",
    "            val_accs.append(acc_val)\n",
    "            train_f1.append(f1_train)\n",
    "            val_f1.append(f1_val)\n",
    "            \n",
    "            print()\n",
    "            print(\"Fold: \", fold+1)\n",
    "            print(\"Training Accuracy: \", acc_train, \" Validation Accuracy: \", acc_val)\n",
    "            print(\"Training F1: \", f1_train, \" Validation F1: \", f1_val)\n",
    "            print()\n",
    "            \n",
    "    mean_train_acc = np.mean(train_accs)\n",
    "    mean_val_acc = np.mean(val_accs)\n",
    "    mean_train_f1 = np.mean(train_f1)\n",
    "    mean_val_f1 = np.mean(val_f1)\n",
    "    \n",
    "    predictions_test = predicted.eval(feed_dict={X: X_test_})\n",
    "    save_path = saver.save(sess, \"./my_model_final_3.ckpt\")\n",
    "    print(\"Mean Training Acc.: \", mean_train_acc, \" Mean Validation Acc.: \", mean_val_acc, \" Mean Training F1: \", mean_train_f1, \" Mean Validation F1: \", mean_val_f1)"
   ]
  },
  {
   "cell_type": "code",
   "execution_count": 27,
   "metadata": {},
   "outputs": [],
   "source": [
    "predicted = pd.DataFrame()\n",
    "predicted[\"PassengerId\"] = passenger_ids\n",
    "predicted[\"Survived\"] = predictions_test.astype(\"int32\")\n",
    "predicted.to_csv(\"preds_nn.csv\", header=True, index=False)"
   ]
  },
  {
   "cell_type": "code",
   "execution_count": 28,
   "metadata": {},
   "outputs": [
    {
     "data": {
      "text/html": [
       "<div>\n",
       "<style scoped>\n",
       "    .dataframe tbody tr th:only-of-type {\n",
       "        vertical-align: middle;\n",
       "    }\n",
       "\n",
       "    .dataframe tbody tr th {\n",
       "        vertical-align: top;\n",
       "    }\n",
       "\n",
       "    .dataframe thead th {\n",
       "        text-align: right;\n",
       "    }\n",
       "</style>\n",
       "<table border=\"1\" class=\"dataframe\">\n",
       "  <thead>\n",
       "    <tr style=\"text-align: right;\">\n",
       "      <th></th>\n",
       "      <th>PassengerId</th>\n",
       "      <th>Survived</th>\n",
       "    </tr>\n",
       "  </thead>\n",
       "  <tbody>\n",
       "    <tr>\n",
       "      <th>0</th>\n",
       "      <td>892</td>\n",
       "      <td>0</td>\n",
       "    </tr>\n",
       "    <tr>\n",
       "      <th>1</th>\n",
       "      <td>893</td>\n",
       "      <td>0</td>\n",
       "    </tr>\n",
       "    <tr>\n",
       "      <th>2</th>\n",
       "      <td>894</td>\n",
       "      <td>0</td>\n",
       "    </tr>\n",
       "    <tr>\n",
       "      <th>3</th>\n",
       "      <td>895</td>\n",
       "      <td>0</td>\n",
       "    </tr>\n",
       "    <tr>\n",
       "      <th>4</th>\n",
       "      <td>896</td>\n",
       "      <td>1</td>\n",
       "    </tr>\n",
       "    <tr>\n",
       "      <th>5</th>\n",
       "      <td>897</td>\n",
       "      <td>0</td>\n",
       "    </tr>\n",
       "    <tr>\n",
       "      <th>6</th>\n",
       "      <td>898</td>\n",
       "      <td>1</td>\n",
       "    </tr>\n",
       "    <tr>\n",
       "      <th>7</th>\n",
       "      <td>899</td>\n",
       "      <td>0</td>\n",
       "    </tr>\n",
       "    <tr>\n",
       "      <th>8</th>\n",
       "      <td>900</td>\n",
       "      <td>1</td>\n",
       "    </tr>\n",
       "    <tr>\n",
       "      <th>9</th>\n",
       "      <td>901</td>\n",
       "      <td>0</td>\n",
       "    </tr>\n",
       "  </tbody>\n",
       "</table>\n",
       "</div>"
      ],
      "text/plain": [
       "   PassengerId  Survived\n",
       "0          892         0\n",
       "1          893         0\n",
       "2          894         0\n",
       "3          895         0\n",
       "4          896         1\n",
       "5          897         0\n",
       "6          898         1\n",
       "7          899         0\n",
       "8          900         1\n",
       "9          901         0"
      ]
     },
     "execution_count": 28,
     "metadata": {},
     "output_type": "execute_result"
    }
   ],
   "source": [
    "testing = pd.read_csv(\"preds_nn.csv\")\n",
    "testing.head(10)"
   ]
  }
 ],
 "metadata": {
  "kernelspec": {
   "display_name": "Python 3",
   "language": "python",
   "name": "python3"
  },
  "language_info": {
   "codemirror_mode": {
    "name": "ipython",
    "version": 3
   },
   "file_extension": ".py",
   "mimetype": "text/x-python",
   "name": "python",
   "nbconvert_exporter": "python",
   "pygments_lexer": "ipython3",
   "version": "3.6.8"
  }
 },
 "nbformat": 4,
 "nbformat_minor": 2
}
